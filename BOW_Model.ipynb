{
 "cells": [
  {
   "cell_type": "code",
   "execution_count": 2,
   "metadata": {},
   "outputs": [],
   "source": [
    "import pandas as pd\n",
    "import matplotlib.pyplot as plt"
   ]
  },
  {
   "cell_type": "code",
   "execution_count": 3,
   "metadata": {},
   "outputs": [],
   "source": [
    "import nltk\n",
    "from nltk.tokenize import word_tokenize"
   ]
  },
  {
   "cell_type": "code",
   "execution_count": 4,
   "metadata": {},
   "outputs": [
    {
     "name": "stdout",
     "output_type": "stream",
     "text": [
      "!\"#$%&'()*+,-./:;<=>?@[\\]^_`{|}~\n"
     ]
    }
   ],
   "source": [
    "import string\n",
    "print(string.punctuation)"
   ]
  },
  {
   "cell_type": "markdown",
   "metadata": {},
   "source": [
    "# Step 1. Data Preparation"
   ]
  },
  {
   "cell_type": "code",
   "execution_count": 5,
   "metadata": {},
   "outputs": [
    {
     "data": {
      "text/plain": [
       "(1394, 27)"
      ]
     },
     "execution_count": 5,
     "metadata": {},
     "output_type": "execute_result"
    }
   ],
   "source": [
    "df = pd.read_csv(\"adm_notes_exclude_dead_readm.csv\",\n",
    "                     header=0)\n",
    "df.columns\n",
    "df.shape"
   ]
  },
  {
   "cell_type": "code",
   "execution_count": 6,
   "metadata": {},
   "outputs": [
    {
     "data": {
      "text/plain": [
       "0    1161\n",
       "1     233\n",
       "Name: label, dtype: int64"
      ]
     },
     "execution_count": 6,
     "metadata": {},
     "output_type": "execute_result"
    }
   ],
   "source": [
    "data = pd.DataFrame()\n",
    "data['label'] = (df['redays']<=30).astype('int')\n",
    "data['summary'] = df['summary']\n",
    "data.label.value_counts()"
   ]
  },
  {
   "cell_type": "code",
   "execution_count": 7,
   "metadata": {},
   "outputs": [
    {
     "data": {
      "text/html": [
       "<div>\n",
       "<style scoped>\n",
       "    .dataframe tbody tr th:only-of-type {\n",
       "        vertical-align: middle;\n",
       "    }\n",
       "\n",
       "    .dataframe tbody tr th {\n",
       "        vertical-align: top;\n",
       "    }\n",
       "\n",
       "    .dataframe thead th {\n",
       "        text-align: right;\n",
       "    }\n",
       "</style>\n",
       "<table border=\"1\" class=\"dataframe\">\n",
       "  <thead>\n",
       "    <tr style=\"text-align: right;\">\n",
       "      <th></th>\n",
       "      <th>label</th>\n",
       "      <th>summary</th>\n",
       "    </tr>\n",
       "  </thead>\n",
       "  <tbody>\n",
       "    <tr>\n",
       "      <td>0</td>\n",
       "      <td>0</td>\n",
       "      <td>Admission Date:  [**2183-3-23**]              ...</td>\n",
       "    </tr>\n",
       "    <tr>\n",
       "      <td>1</td>\n",
       "      <td>0</td>\n",
       "      <td>Admission Date:  [**2139-9-8**]     Discharge ...</td>\n",
       "    </tr>\n",
       "    <tr>\n",
       "      <td>2</td>\n",
       "      <td>0</td>\n",
       "      <td>Admission Date:  [**2146-11-17**]             ...</td>\n",
       "    </tr>\n",
       "    <tr>\n",
       "      <td>3</td>\n",
       "      <td>0</td>\n",
       "      <td>Admission Date:  [**2146-12-22**]             ...</td>\n",
       "    </tr>\n",
       "    <tr>\n",
       "      <td>4</td>\n",
       "      <td>0</td>\n",
       "      <td>Admission Date:  [**2199-9-1**]              D...</td>\n",
       "    </tr>\n",
       "    <tr>\n",
       "      <td>...</td>\n",
       "      <td>...</td>\n",
       "      <td>...</td>\n",
       "    </tr>\n",
       "    <tr>\n",
       "      <td>1389</td>\n",
       "      <td>0</td>\n",
       "      <td>[** **] Date:  [**2116-7-1**]              Dis...</td>\n",
       "    </tr>\n",
       "    <tr>\n",
       "      <td>1390</td>\n",
       "      <td>1</td>\n",
       "      <td>Admission Date:  [**2109-6-16**]              ...</td>\n",
       "    </tr>\n",
       "    <tr>\n",
       "      <td>1391</td>\n",
       "      <td>0</td>\n",
       "      <td>Admission Date:  [**2126-2-20**]              ...</td>\n",
       "    </tr>\n",
       "    <tr>\n",
       "      <td>1392</td>\n",
       "      <td>1</td>\n",
       "      <td>Admission Date:  [**2117-4-13**]              ...</td>\n",
       "    </tr>\n",
       "    <tr>\n",
       "      <td>1393</td>\n",
       "      <td>0</td>\n",
       "      <td>Admission Date:  [**2188-12-10**]       Discha...</td>\n",
       "    </tr>\n",
       "  </tbody>\n",
       "</table>\n",
       "<p>1377 rows × 2 columns</p>\n",
       "</div>"
      ],
      "text/plain": [
       "      label                                            summary\n",
       "0         0  Admission Date:  [**2183-3-23**]              ...\n",
       "1         0  Admission Date:  [**2139-9-8**]     Discharge ...\n",
       "2         0  Admission Date:  [**2146-11-17**]             ...\n",
       "3         0  Admission Date:  [**2146-12-22**]             ...\n",
       "4         0  Admission Date:  [**2199-9-1**]              D...\n",
       "...     ...                                                ...\n",
       "1389      0  [** **] Date:  [**2116-7-1**]              Dis...\n",
       "1390      1  Admission Date:  [**2109-6-16**]              ...\n",
       "1391      0  Admission Date:  [**2126-2-20**]              ...\n",
       "1392      1  Admission Date:  [**2117-4-13**]              ...\n",
       "1393      0  Admission Date:  [**2188-12-10**]       Discha...\n",
       "\n",
       "[1377 rows x 2 columns]"
      ]
     },
     "execution_count": 7,
     "metadata": {},
     "output_type": "execute_result"
    }
   ],
   "source": [
    "data_dropna=data.dropna()\n",
    "data_dropna"
   ]
  },
  {
   "cell_type": "code",
   "execution_count": 8,
   "metadata": {},
   "outputs": [
    {
     "data": {
      "text/plain": [
       "0    1146\n",
       "1     231\n",
       "Name: label, dtype: int64"
      ]
     },
     "execution_count": 8,
     "metadata": {},
     "output_type": "execute_result"
    }
   ],
   "source": [
    "data_dropna['label'].value_counts()"
   ]
  },
  {
   "cell_type": "code",
   "execution_count": 9,
   "metadata": {},
   "outputs": [
    {
     "data": {
      "text/html": [
       "<div>\n",
       "<style scoped>\n",
       "    .dataframe tbody tr th:only-of-type {\n",
       "        vertical-align: middle;\n",
       "    }\n",
       "\n",
       "    .dataframe tbody tr th {\n",
       "        vertical-align: top;\n",
       "    }\n",
       "\n",
       "    .dataframe thead th {\n",
       "        text-align: right;\n",
       "    }\n",
       "</style>\n",
       "<table border=\"1\" class=\"dataframe\">\n",
       "  <thead>\n",
       "    <tr style=\"text-align: right;\">\n",
       "      <th></th>\n",
       "      <th>label</th>\n",
       "      <th>summary</th>\n",
       "    </tr>\n",
       "  </thead>\n",
       "  <tbody>\n",
       "    <tr>\n",
       "      <td>0</td>\n",
       "      <td>0</td>\n",
       "      <td>Admission Date:  [**2183-3-23**]              ...</td>\n",
       "    </tr>\n",
       "    <tr>\n",
       "      <td>1</td>\n",
       "      <td>0</td>\n",
       "      <td>Admission Date:  [**2139-9-8**]     Discharge ...</td>\n",
       "    </tr>\n",
       "    <tr>\n",
       "      <td>2</td>\n",
       "      <td>0</td>\n",
       "      <td>Admission Date:  [**2146-11-17**]             ...</td>\n",
       "    </tr>\n",
       "    <tr>\n",
       "      <td>3</td>\n",
       "      <td>0</td>\n",
       "      <td>Admission Date:  [**2146-12-22**]             ...</td>\n",
       "    </tr>\n",
       "    <tr>\n",
       "      <td>4</td>\n",
       "      <td>0</td>\n",
       "      <td>Admission Date:  [**2199-9-1**]              D...</td>\n",
       "    </tr>\n",
       "    <tr>\n",
       "      <td>...</td>\n",
       "      <td>...</td>\n",
       "      <td>...</td>\n",
       "    </tr>\n",
       "    <tr>\n",
       "      <td>1389</td>\n",
       "      <td>0</td>\n",
       "      <td>[** **] Date:  [**2116-7-1**]              Dis...</td>\n",
       "    </tr>\n",
       "    <tr>\n",
       "      <td>1390</td>\n",
       "      <td>1</td>\n",
       "      <td>Admission Date:  [**2109-6-16**]              ...</td>\n",
       "    </tr>\n",
       "    <tr>\n",
       "      <td>1391</td>\n",
       "      <td>0</td>\n",
       "      <td>Admission Date:  [**2126-2-20**]              ...</td>\n",
       "    </tr>\n",
       "    <tr>\n",
       "      <td>1392</td>\n",
       "      <td>1</td>\n",
       "      <td>Admission Date:  [**2117-4-13**]              ...</td>\n",
       "    </tr>\n",
       "    <tr>\n",
       "      <td>1393</td>\n",
       "      <td>0</td>\n",
       "      <td>Admission Date:  [**2188-12-10**]       Discha...</td>\n",
       "    </tr>\n",
       "  </tbody>\n",
       "</table>\n",
       "<p>1377 rows × 2 columns</p>\n",
       "</div>"
      ],
      "text/plain": [
       "      label                                            summary\n",
       "0         0  Admission Date:  [**2183-3-23**]              ...\n",
       "1         0  Admission Date:  [**2139-9-8**]     Discharge ...\n",
       "2         0  Admission Date:  [**2146-11-17**]             ...\n",
       "3         0  Admission Date:  [**2146-12-22**]             ...\n",
       "4         0  Admission Date:  [**2199-9-1**]              D...\n",
       "...     ...                                                ...\n",
       "1389      0  [** **] Date:  [**2116-7-1**]              Dis...\n",
       "1390      1  Admission Date:  [**2109-6-16**]              ...\n",
       "1391      0  Admission Date:  [**2126-2-20**]              ...\n",
       "1392      1  Admission Date:  [**2117-4-13**]              ...\n",
       "1393      0  Admission Date:  [**2188-12-10**]       Discha...\n",
       "\n",
       "[1377 rows x 2 columns]"
      ]
     },
     "execution_count": 9,
     "metadata": {},
     "output_type": "execute_result"
    }
   ],
   "source": [
    "data_dropna"
   ]
  },
  {
   "cell_type": "markdown",
   "metadata": {},
   "source": [
    "Before upsampling the positive samples, we need to hold out the testing set from the orginal dataset."
   ]
  },
  {
   "cell_type": "code",
   "execution_count": 10,
   "metadata": {},
   "outputs": [],
   "source": [
    "from sklearn.model_selection import train_test_split"
   ]
  },
  {
   "cell_type": "code",
   "execution_count": 11,
   "metadata": {},
   "outputs": [],
   "source": [
    "x_train_pre,x_test,y_train_pre,y_test=train_test_split(data_dropna['summary'],data_dropna['label'],test_size=0.15)"
   ]
  },
  {
   "cell_type": "code",
   "execution_count": 14,
   "metadata": {},
   "outputs": [
    {
     "data": {
      "text/plain": [
       "0    235\n",
       "1     41\n",
       "Name: label, dtype: int64"
      ]
     },
     "execution_count": 14,
     "metadata": {},
     "output_type": "execute_result"
    }
   ],
   "source": [
    "y_test.value_counts()"
   ]
  },
  {
   "cell_type": "markdown",
   "metadata": {},
   "source": [
    "#### Unbalanced dataset, so that we up-sample the positive samples in training dataset"
   ]
  },
  {
   "cell_type": "code",
   "execution_count": 15,
   "metadata": {},
   "outputs": [
    {
     "data": {
      "text/plain": [
       "0    911\n",
       "1    190\n",
       "Name: label, dtype: int64"
      ]
     },
     "execution_count": 15,
     "metadata": {},
     "output_type": "execute_result"
    }
   ],
   "source": [
    "# concatenate our training data back together\n",
    "X = pd.concat([x_train_pre, y_train_pre], axis=1)\n",
    "X['label'].value_counts()"
   ]
  },
  {
   "cell_type": "code",
   "execution_count": 16,
   "metadata": {},
   "outputs": [],
   "source": [
    "# Divide by class\n",
    "df_class_0 = X[X['label'] == 0]\n",
    "df_class_1 = X[X['label'] == 1]"
   ]
  },
  {
   "cell_type": "code",
   "execution_count": 17,
   "metadata": {},
   "outputs": [],
   "source": [
    "df_class_1_upsample = df_class_1.sample(len(X[X['label']==0]), replace=True)"
   ]
  },
  {
   "cell_type": "markdown",
   "metadata": {},
   "source": [
    "Try sklearn to upsample the data"
   ]
  },
  {
   "cell_type": "code",
   "execution_count": 216,
   "metadata": {},
   "outputs": [],
   "source": [
    "from sklearn.utils import resample\n",
    "df_class_1_upsample = resample(df_class_1,\n",
    "                          replace=True, # sample with replacement\n",
    "                          n_samples=len(df_class_0), # match number in majority class\n",
    "                          random_state=27)"
   ]
  },
  {
   "cell_type": "code",
   "execution_count": 18,
   "metadata": {},
   "outputs": [
    {
     "data": {
      "text/plain": [
       "(1822, 2)"
      ]
     },
     "execution_count": 18,
     "metadata": {},
     "output_type": "execute_result"
    }
   ],
   "source": [
    "df_over = pd.concat([df_class_1_upsample, df_class_0], axis=0)\n",
    "df_over.shape"
   ]
  },
  {
   "cell_type": "code",
   "execution_count": 19,
   "metadata": {},
   "outputs": [
    {
     "data": {
      "text/html": [
       "<div>\n",
       "<style scoped>\n",
       "    .dataframe tbody tr th:only-of-type {\n",
       "        vertical-align: middle;\n",
       "    }\n",
       "\n",
       "    .dataframe tbody tr th {\n",
       "        vertical-align: top;\n",
       "    }\n",
       "\n",
       "    .dataframe thead th {\n",
       "        text-align: right;\n",
       "    }\n",
       "</style>\n",
       "<table border=\"1\" class=\"dataframe\">\n",
       "  <thead>\n",
       "    <tr style=\"text-align: right;\">\n",
       "      <th></th>\n",
       "      <th>summary</th>\n",
       "      <th>label</th>\n",
       "    </tr>\n",
       "  </thead>\n",
       "  <tbody>\n",
       "    <tr>\n",
       "      <td>0</td>\n",
       "      <td>Admission Date: [**2126-5-24**]        Dischar...</td>\n",
       "      <td>1</td>\n",
       "    </tr>\n",
       "    <tr>\n",
       "      <td>1</td>\n",
       "      <td>Admission Date:  [**2189-12-2**]              ...</td>\n",
       "      <td>0</td>\n",
       "    </tr>\n",
       "    <tr>\n",
       "      <td>2</td>\n",
       "      <td>Admission Date:  [**2149-9-26**]              ...</td>\n",
       "      <td>1</td>\n",
       "    </tr>\n",
       "    <tr>\n",
       "      <td>3</td>\n",
       "      <td>Admission Date:  [**2179-10-13**]             ...</td>\n",
       "      <td>1</td>\n",
       "    </tr>\n",
       "    <tr>\n",
       "      <td>4</td>\n",
       "      <td>Admission Date:  [**2132-9-19**]       Dischar...</td>\n",
       "      <td>1</td>\n",
       "    </tr>\n",
       "    <tr>\n",
       "      <td>...</td>\n",
       "      <td>...</td>\n",
       "      <td>...</td>\n",
       "    </tr>\n",
       "    <tr>\n",
       "      <td>1817</td>\n",
       "      <td>Admission Date:  [**2130-7-15**]              ...</td>\n",
       "      <td>0</td>\n",
       "    </tr>\n",
       "    <tr>\n",
       "      <td>1818</td>\n",
       "      <td>Admission Date:  [**2135-9-8**]              D...</td>\n",
       "      <td>0</td>\n",
       "    </tr>\n",
       "    <tr>\n",
       "      <td>1819</td>\n",
       "      <td>Admission Date:  [**2121-11-20**]             ...</td>\n",
       "      <td>1</td>\n",
       "    </tr>\n",
       "    <tr>\n",
       "      <td>1820</td>\n",
       "      <td>Admission Date:  [**2119-5-9**]              D...</td>\n",
       "      <td>0</td>\n",
       "    </tr>\n",
       "    <tr>\n",
       "      <td>1821</td>\n",
       "      <td>Admission Date:  [**2164-8-26**]     Discharge...</td>\n",
       "      <td>0</td>\n",
       "    </tr>\n",
       "  </tbody>\n",
       "</table>\n",
       "<p>1822 rows × 2 columns</p>\n",
       "</div>"
      ],
      "text/plain": [
       "                                                summary  label\n",
       "0     Admission Date: [**2126-5-24**]        Dischar...      1\n",
       "1     Admission Date:  [**2189-12-2**]              ...      0\n",
       "2     Admission Date:  [**2149-9-26**]              ...      1\n",
       "3     Admission Date:  [**2179-10-13**]             ...      1\n",
       "4     Admission Date:  [**2132-9-19**]       Dischar...      1\n",
       "...                                                 ...    ...\n",
       "1817  Admission Date:  [**2130-7-15**]              ...      0\n",
       "1818  Admission Date:  [**2135-9-8**]              D...      0\n",
       "1819  Admission Date:  [**2121-11-20**]             ...      1\n",
       "1820  Admission Date:  [**2119-5-9**]              D...      0\n",
       "1821  Admission Date:  [**2164-8-26**]     Discharge...      0\n",
       "\n",
       "[1822 rows x 2 columns]"
      ]
     },
     "execution_count": 19,
     "metadata": {},
     "output_type": "execute_result"
    }
   ],
   "source": [
    "# shuffle the order of training samples \n",
    "df_all = df_over.sample(len(df_over['label']), random_state = 42).reset_index(drop = True)\n",
    "df_all"
   ]
  },
  {
   "cell_type": "markdown",
   "metadata": {},
   "source": [
    "#### Setup training and test data set"
   ]
  },
  {
   "cell_type": "code",
   "execution_count": 20,
   "metadata": {},
   "outputs": [],
   "source": [
    "x_train = df_all['summary']\n",
    "y_train = df_all['label']"
   ]
  },
  {
   "cell_type": "markdown",
   "metadata": {},
   "source": [
    " # Step2: Process text data"
   ]
  },
  {
   "cell_type": "code",
   "execution_count": 21,
   "metadata": {},
   "outputs": [],
   "source": [
    "def preprocess_text(df):\n",
    "    # This function preprocesses the text by filling not a number and replacing new lines ('\\n') and carriage returns ('\\r')\n",
    "    df.TEXT = df.TEXT.fillna(' ')\n",
    "    df.TEXT =df.TEXT.str.replace('\\n',' ')\n",
    "    df.TEXT =df.TEXT.str.replace('\\r',' ')\n",
    "    return df"
   ]
  },
  {
   "cell_type": "code",
   "execution_count": 22,
   "metadata": {},
   "outputs": [
    {
     "data": {
      "text/plain": [
       "0       Admission Date: [**2126-5-24**]        Dischar...\n",
       "1       Admission Date:  [**2189-12-2**]              ...\n",
       "2       Admission Date:  [**2149-9-26**]              ...\n",
       "3       Admission Date:  [**2179-10-13**]             ...\n",
       "4       Admission Date:  [**2132-9-19**]       Dischar...\n",
       "                              ...                        \n",
       "1817    Admission Date:  [**2130-7-15**]              ...\n",
       "1818    Admission Date:  [**2135-9-8**]              D...\n",
       "1819    Admission Date:  [**2121-11-20**]             ...\n",
       "1820    Admission Date:  [**2119-5-9**]              D...\n",
       "1821    Admission Date:  [**2164-8-26**]     Discharge...\n",
       "Name: summary, Length: 1822, dtype: object"
      ]
     },
     "execution_count": 22,
     "metadata": {},
     "output_type": "execute_result"
    }
   ],
   "source": [
    "#df_train = preprocess_text(df_all['summary'])\n",
    "df_all['summary'].astype(str)"
   ]
  },
  {
   "cell_type": "code",
   "execution_count": 23,
   "metadata": {},
   "outputs": [
    {
     "data": {
      "text/plain": [
       "['This',\n",
       " 'should',\n",
       " 'be',\n",
       " 'tokenized',\n",
       " '.',\n",
       " '02/02/2018',\n",
       " 'sentence',\n",
       " 'has',\n",
       " 'stars**']"
      ]
     },
     "execution_count": 23,
     "metadata": {},
     "output_type": "execute_result"
    }
   ],
   "source": [
    "#function to split text into word\n",
    "word_tokenize('This should be tokenized. 02/02/2018 sentence has stars**')"
   ]
  },
  {
   "cell_type": "code",
   "execution_count": 24,
   "metadata": {},
   "outputs": [],
   "source": [
    "def tokenizer_better(text):\n",
    "    # tokenize the text by replacing punctuation and numbers with spaces and lowercase all words\n",
    "    punc_list = string.punctuation+'0123456789'\n",
    "    t = str.maketrans(dict.fromkeys(punc_list, \" \"))\n",
    "    text = text.lower().translate(t)\n",
    "    tokens = word_tokenize(text)\n",
    "    return tokens"
   ]
  },
  {
   "cell_type": "code",
   "execution_count": 25,
   "metadata": {},
   "outputs": [
    {
     "data": {
      "text/plain": [
       "['this', 'should', 'be', 'tokenized', 'sentence', 'has', 'stars']"
      ]
     },
     "execution_count": 25,
     "metadata": {},
     "output_type": "execute_result"
    }
   ],
   "source": [
    "tokenizer_better('This should be tokenized. 02/02/2018 sentence has stars**')"
   ]
  },
  {
   "cell_type": "markdown",
   "metadata": {},
   "source": [
    "### Build a simple vectorizer"
   ]
  },
  {
   "cell_type": "code",
   "execution_count": 26,
   "metadata": {},
   "outputs": [],
   "source": [
    "from sklearn.feature_extraction.text import CountVectorizer\n",
    "\n",
    "sample_text = ['Data science is about the data', 'The science is amazing', 'Predictive modeling is part of data science']\n",
    "\n",
    "vect = CountVectorizer(tokenizer = tokenizer_better)\n",
    "vect.fit(sample_text)\n",
    "\n",
    "# matrix is stored as a sparse matrix (since you have a lot of zeros)\n",
    "X = vect.transform(sample_text)"
   ]
  },
  {
   "cell_type": "code",
   "execution_count": 27,
   "metadata": {},
   "outputs": [
    {
     "data": {
      "text/plain": [
       "array([[1, 0, 2, 1, 0, 0, 0, 0, 1, 1],\n",
       "       [0, 1, 0, 1, 0, 0, 0, 0, 1, 1],\n",
       "       [0, 0, 1, 1, 1, 1, 1, 1, 1, 0]])"
      ]
     },
     "execution_count": 27,
     "metadata": {},
     "output_type": "execute_result"
    }
   ],
   "source": [
    "X.toarray()"
   ]
  },
  {
   "cell_type": "code",
   "execution_count": 28,
   "metadata": {},
   "outputs": [
    {
     "data": {
      "text/plain": [
       "['about',\n",
       " 'amazing',\n",
       " 'data',\n",
       " 'is',\n",
       " 'modeling',\n",
       " 'of',\n",
       " 'part',\n",
       " 'predictive',\n",
       " 'science',\n",
       " 'the']"
      ]
     },
     "execution_count": 28,
     "metadata": {},
     "output_type": "execute_result"
    }
   ],
   "source": [
    "# get the column names\n",
    "vect.get_feature_names()"
   ]
  },
  {
   "cell_type": "markdown",
   "metadata": {},
   "source": [
    "### Get another example from clinical notes"
   ]
  },
  {
   "cell_type": "code",
   "execution_count": 29,
   "metadata": {},
   "outputs": [
    {
     "data": {
      "text/plain": [
       "['a',\n",
       " 'abdomen',\n",
       " 'abutting',\n",
       " 'actually',\n",
       " 'admission',\n",
       " 'afebrile',\n",
       " 'alert',\n",
       " 'all',\n",
       " 'allergies',\n",
       " 'also',\n",
       " 'amiodarone',\n",
       " 'an',\n",
       " 'and',\n",
       " 'aneurysm',\n",
       " 'angio',\n",
       " 'angiogram',\n",
       " 'ankle',\n",
       " 'arousable',\n",
       " 'aspirin',\n",
       " 'at',\n",
       " 'atrial',\n",
       " 'attempted',\n",
       " 'awake',\n",
       " 'b',\n",
       " 'being',\n",
       " 'birth',\n",
       " 'blood',\n",
       " 'bowel',\n",
       " 'briskly',\n",
       " 'bruits',\n",
       " 'but',\n",
       " 'by',\n",
       " 'cad',\n",
       " 'calculi',\n",
       " 'cardiac',\n",
       " 'cardiology',\n",
       " 'carotid',\n",
       " 'carotids',\n",
       " 'cells',\n",
       " 'change',\n",
       " 'clip',\n",
       " 'clipping',\n",
       " 'clonus',\n",
       " 'close',\n",
       " 'coiling',\n",
       " 'commands',\n",
       " 'complication',\n",
       " 'complications',\n",
       " 'condition',\n",
       " 'continued',\n",
       " 'control',\n",
       " 'convert',\n",
       " 'course',\n",
       " 'ct',\n",
       " 'd',\n",
       " 'date',\n",
       " 'day',\n",
       " 'decreased',\n",
       " 'deep',\n",
       " 'degrees',\n",
       " 'developed',\n",
       " 'diagnostic',\n",
       " 'dictated',\n",
       " 'did',\n",
       " 'dilantin',\n",
       " 'dilation',\n",
       " 'discharge',\n",
       " 'discharged',\n",
       " 'discontinued',\n",
       " 'done',\n",
       " 'down',\n",
       " 'downgoing',\n",
       " 'dr',\n",
       " 'easily',\n",
       " 'echo',\n",
       " 'ef',\n",
       " 'enzymes',\n",
       " 'eoms',\n",
       " 'episodes',\n",
       " 'equal',\n",
       " 'essentially',\n",
       " 'examination',\n",
       " 'extremities',\n",
       " 'eyes',\n",
       " 'famotidine',\n",
       " 'fibrillation',\n",
       " 'findings',\n",
       " 'fissure',\n",
       " 'flare',\n",
       " 'floor',\n",
       " 'follow',\n",
       " 'following',\n",
       " 'for',\n",
       " 'full',\n",
       " 'further',\n",
       " 'gallop',\n",
       " 'gentleman',\n",
       " 'glaucoma',\n",
       " 'good',\n",
       " 'grasp',\n",
       " 'grasps',\n",
       " 'greater',\n",
       " 'groups',\n",
       " 'h',\n",
       " 'had',\n",
       " 'he',\n",
       " 'head',\n",
       " 'headache',\n",
       " 'heart',\n",
       " 'hemorrhage',\n",
       " 'here',\n",
       " 'hhh',\n",
       " 'his',\n",
       " 'history',\n",
       " 'home',\n",
       " 'hospital',\n",
       " 'hypertension',\n",
       " 'i',\n",
       " 'ica',\n",
       " 'icu',\n",
       " 'illness',\n",
       " 'in',\n",
       " 'intact',\n",
       " 'intraoperative',\n",
       " 'involved',\n",
       " 'is',\n",
       " 'iv',\n",
       " 'job',\n",
       " 'keeping',\n",
       " 'kept',\n",
       " 'known',\n",
       " 'la',\n",
       " 'last',\n",
       " 'left',\n",
       " 'light',\n",
       " 'liters',\n",
       " 'lopressor',\n",
       " 'lower',\n",
       " 'lp',\n",
       " 'm',\n",
       " 'mca',\n",
       " 'md',\n",
       " 'medications',\n",
       " 'medquist',\n",
       " 'metoprolol',\n",
       " 'mg',\n",
       " 'midline',\n",
       " 'mild',\n",
       " 'mm',\n",
       " 'monitored',\n",
       " 'morning',\n",
       " 'moving',\n",
       " 'mr',\n",
       " 'mra',\n",
       " 'mri',\n",
       " 'murmur',\n",
       " 'muscle',\n",
       " 'n',\n",
       " 'name',\n",
       " 'namepattern',\n",
       " 'neck',\n",
       " 'negative',\n",
       " 'neurologic',\n",
       " 'neurologically',\n",
       " 'no',\n",
       " 'nontender',\n",
       " 'nsu',\n",
       " 'number',\n",
       " 'o',\n",
       " 'observation',\n",
       " 'of',\n",
       " 'old',\n",
       " 'on',\n",
       " 'one',\n",
       " 'opening',\n",
       " 'or',\n",
       " 'other',\n",
       " 'out',\n",
       " 'outside',\n",
       " 'p',\n",
       " 'patient',\n",
       " 'pedal',\n",
       " 'percent',\n",
       " 'performed',\n",
       " 'persisted',\n",
       " 'physical',\n",
       " 'placed',\n",
       " 'pleasant',\n",
       " 'plus',\n",
       " 'positive',\n",
       " 'post',\n",
       " 'postoperative',\n",
       " 'postoperatively',\n",
       " 'present',\n",
       " 'pressure',\n",
       " 'pulses',\n",
       " 'pupils',\n",
       " 'q',\n",
       " 'r',\n",
       " 'rapid',\n",
       " 'rate',\n",
       " 'rca',\n",
       " 'reactive',\n",
       " 'red',\n",
       " 'reflexes',\n",
       " 'regular',\n",
       " 'remain',\n",
       " 'remained',\n",
       " 'renal',\n",
       " 'repeat',\n",
       " 'reportedly',\n",
       " 'respiratory',\n",
       " 'rhythm',\n",
       " 'right',\n",
       " 'round',\n",
       " 'rub',\n",
       " 's',\n",
       " 'saturations',\n",
       " 'sbp',\n",
       " 'seen',\n",
       " 'sent',\n",
       " 'service',\n",
       " 'seven',\n",
       " 'sex',\n",
       " 'showed',\n",
       " 'signs',\n",
       " 'sinus',\n",
       " 'sleepy',\n",
       " 'smile',\n",
       " 'soft',\n",
       " 'somewhat',\n",
       " 'sounds',\n",
       " 'stable',\n",
       " 'staples',\n",
       " 'status',\n",
       " 'stenosis',\n",
       " 'stent',\n",
       " 'stitle',\n",
       " 'strength',\n",
       " 'subarachnoid',\n",
       " 'success',\n",
       " 'supple',\n",
       " 'suspicion',\n",
       " 'sylvian',\n",
       " 'symmetric',\n",
       " 'systolic',\n",
       " 't',\n",
       " 'tablets',\n",
       " 'taken',\n",
       " 'temperature',\n",
       " 'tendon',\n",
       " 'tenuous',\n",
       " 'than',\n",
       " 'that',\n",
       " 'the',\n",
       " 'then',\n",
       " 'therapy',\n",
       " 'there',\n",
       " 'throughout',\n",
       " 'time',\n",
       " 'to',\n",
       " 'toes',\n",
       " 'tongue',\n",
       " 'transferred',\n",
       " 'treated',\n",
       " 'two',\n",
       " 'tylenol',\n",
       " 'underwent',\n",
       " 'up',\n",
       " 'vasospasm',\n",
       " 'very',\n",
       " 'vital',\n",
       " 'voice',\n",
       " 'was',\n",
       " 'watched',\n",
       " 'week',\n",
       " 'were',\n",
       " 'where',\n",
       " 'which',\n",
       " 'who',\n",
       " 'with',\n",
       " 'without',\n",
       " 'x',\n",
       " 'year']"
      ]
     },
     "execution_count": 29,
     "metadata": {},
     "output_type": "execute_result"
    }
   ],
   "source": [
    "x_text = tokenizer_better(x_train[0])\n",
    "vect.fit(x_text)\n",
    "vect.transform(x_text).toarray().shape\n",
    "vect.get_feature_names()"
   ]
  },
  {
   "cell_type": "markdown",
   "metadata": {},
   "source": [
    "### build a vectorizer on the clinical notes"
   ]
  },
  {
   "cell_type": "code",
   "execution_count": 30,
   "metadata": {},
   "outputs": [],
   "source": [
    "my_stop_words = ['the','and','to','of','was','with','a','on','in','for','name',\n",
    "                 'is','patient','s','he','at','as','or','one','she','his','her','am',\n",
    "                 'were','you','pt','pm','by','be','had','your','this','date',\n",
    "                'from','there','an','that','p','are','have','has','h','but','o',\n",
    "                'namepattern','which','every','also','t','that']\n",
    "vect = CountVectorizer(max_features = 3000, tokenizer = tokenizer_better, stop_words = my_stop_words)\n",
    "# this could take a while\n",
    "X_train_counts = vect.fit_transform(x_train.values)"
   ]
  },
  {
   "cell_type": "code",
   "execution_count": null,
   "metadata": {},
   "outputs": [],
   "source": [
    "X_train_counts"
   ]
  },
  {
   "cell_type": "markdown",
   "metadata": {},
   "source": [
    "# Step 3: Training the model"
   ]
  },
  {
   "cell_type": "markdown",
   "metadata": {},
   "source": [
    "### Experiments with adding tf-idf"
   ]
  },
  {
   "cell_type": "code",
   "execution_count": 159,
   "metadata": {},
   "outputs": [
    {
     "data": {
      "text/plain": [
       "(1838, 3000)"
      ]
     },
     "execution_count": 159,
     "metadata": {},
     "output_type": "execute_result"
    }
   ],
   "source": [
    "from sklearn.feature_extraction.text import TfidfTransformer\n",
    "tfidf_transformer = TfidfTransformer()\n",
    "X_train_tfidf = tfidf_transformer.fit_transform(X_train_counts)\n",
    "X_train_tfidf.shape"
   ]
  },
  {
   "cell_type": "markdown",
   "metadata": {},
   "source": [
    "### Buidling the whole pipeline"
   ]
  },
  {
   "cell_type": "code",
   "execution_count": 31,
   "metadata": {},
   "outputs": [
    {
     "data": {
      "text/plain": [
       "0.7644927536231884"
      ]
     },
     "execution_count": 31,
     "metadata": {},
     "output_type": "execute_result"
    }
   ],
   "source": [
    "import numpy as np\n",
    "from sklearn.pipeline import Pipeline\n",
    "from sklearn.linear_model import SGDClassifier\n",
    "text_svm = Pipeline([\n",
    "     ('vect', CountVectorizer(lowercase = True, max_features = 4000, tokenizer = tokenizer_better,stop_words =my_stop_words)),\n",
    "     #('tfidf', TfidfTransformer()), #lower performs\n",
    "     ('svm', SGDClassifier(loss='hinge', penalty='l2',\n",
    "                           alpha=1e-3, random_state=42,\n",
    "                           max_iter=5, tol=None)),#0.83\n",
    "    ])\n",
    "\n",
    "\n",
    "text_svm.fit(x_train, y_train)\n",
    "\n",
    "predicted = text_svm.predict(x_test)\n",
    "np.mean(predicted == y_test)"
   ]
  },
  {
   "cell_type": "code",
   "execution_count": 78,
   "metadata": {},
   "outputs": [],
   "source": [
    "from sklearn.model_selection import cross_validate\n",
    "from sklearn.metrics import recall_score\n",
    "#scoring = ['precision_macro', 'recall_macro']\n",
    "scoring = ['accuracy', 'roc_auc', 'balanced_accuracy','average_precision','precision','f1','recall']\n",
    "#clf = svm.SVC(kernel='linear', C=1, random_state=0)\n",
    "scores = cross_validate(text_svm, x_train, \n",
    "                        y_train, scoring=scoring, cv =5, \n",
    "                        return_estimator = True,\n",
    "                        return_train_score =True)"
   ]
  },
  {
   "cell_type": "markdown",
   "metadata": {},
   "source": [
    "#### The evaluation result from training/validation dataset"
   ]
  },
  {
   "cell_type": "code",
   "execution_count": 93,
   "metadata": {},
   "outputs": [
    {
     "name": "stdout",
     "output_type": "stream",
     "text": [
      "test_accuracy mean value: 0.87, std: 0.03 \n",
      "      \n",
      "test_f1 mean value: 0.88\n",
      "      \n",
      "test_precision mean value: 0.82\n",
      "      \n",
      "test_recall mean value: 0.96\n"
     ]
    }
   ],
   "source": [
    "print(\"\"\"test_accuracy mean value: {:.2f}, std: {:.2f} \n",
    "      \\ntest_f1 mean value: {:.2f}\n",
    "      \\ntest_precision mean value: {:.2f}\n",
    "      \\ntest_recall mean value: {:.2f}\"\"\"\n",
    "      .format(scores['test_accuracy'].mean(),\n",
    "              scores['test_accuracy'].std(),\n",
    "              scores['test_f1'].mean(),\n",
    "              scores['test_precision'].mean(),\n",
    "              scores['test_recall'].mean()))"
   ]
  },
  {
   "cell_type": "code",
   "execution_count": 96,
   "metadata": {},
   "outputs": [
    {
     "name": "stdout",
     "output_type": "stream",
     "text": [
      "              precision    recall  f1-score   support\n",
      "\n",
      "           0       0.95      0.79      0.86       911\n",
      "           1       0.82      0.96      0.88       911\n",
      "\n",
      "    accuracy                           0.87      1822\n",
      "   macro avg       0.88      0.87      0.87      1822\n",
      "weighted avg       0.88      0.87      0.87      1822\n",
      "\n"
     ]
    }
   ],
   "source": [
    "y_train_pred = cross_val_predict(text_svm,x_train,y_train,cv=5)\n",
    "\n",
    "print(classification_report(y_train, y_train_pred))"
   ]
  },
  {
   "cell_type": "markdown",
   "metadata": {},
   "source": [
    "#### Evaluate the model on the test dataset"
   ]
  },
  {
   "cell_type": "code",
   "execution_count": 94,
   "metadata": {},
   "outputs": [
    {
     "name": "stdout",
     "output_type": "stream",
     "text": [
      "              precision    recall  f1-score   support\n",
      "\n",
      "           0       0.86      0.87      0.86       235\n",
      "           1       0.21      0.20      0.20        41\n",
      "\n",
      "    accuracy                           0.77       276\n",
      "   macro avg       0.53      0.53      0.53       276\n",
      "weighted avg       0.76      0.77      0.77       276\n",
      "\n"
     ]
    }
   ],
   "source": [
    "from sklearn.model_selection import cross_val_predict\n",
    "from sklearn.metrics import classification_report\n",
    "\n",
    "y_test_pred = cross_val_predict(text_svm,x_test,y_test,cv=5)\n",
    "\n",
    "print(classification_report(y_test, y_test_pred))"
   ]
  },
  {
   "cell_type": "code",
   "execution_count": 75,
   "metadata": {},
   "outputs": [
    {
     "data": {
      "text/plain": [
       "array([[204,  31],\n",
       "       [ 33,   8]])"
      ]
     },
     "execution_count": 75,
     "metadata": {},
     "output_type": "execute_result"
    }
   ],
   "source": [
    "from sklearn.metrics import confusion_matrix\n",
    "confusion_matrix(y_test, y_test_pred)"
   ]
  }
 ],
 "metadata": {
  "kernelspec": {
   "display_name": "Python 3",
   "language": "python",
   "name": "python3"
  },
  "language_info": {
   "codemirror_mode": {
    "name": "ipython",
    "version": 3
   },
   "file_extension": ".py",
   "mimetype": "text/x-python",
   "name": "python",
   "nbconvert_exporter": "python",
   "pygments_lexer": "ipython3",
   "version": "3.7.4"
  }
 },
 "nbformat": 4,
 "nbformat_minor": 4
}
