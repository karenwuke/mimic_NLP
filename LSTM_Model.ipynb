{
 "cells": [
  {
   "cell_type": "markdown",
   "metadata": {},
   "source": [
    "## Step 1 Preparing training and test datasets"
   ]
  },
  {
   "cell_type": "code",
   "execution_count": 1,
   "metadata": {},
   "outputs": [],
   "source": [
    "import pandas as pd\n",
    "\n",
    "df = pd.read_csv(\"adm_notes_exclude_dead_readm.csv\",\n",
    "                     header=0)\n",
    "data = pd.DataFrame()\n",
    "data['label'] = (df['redays']<=30).astype('int')\n",
    "data['summary'] = df['summary']\n",
    "data.label.value_counts()\n",
    "data_dropna=data.dropna()"
   ]
  },
  {
   "cell_type": "code",
   "execution_count": 2,
   "metadata": {},
   "outputs": [
    {
     "data": {
      "text/plain": [
       "(1377, 2)"
      ]
     },
     "execution_count": 2,
     "metadata": {},
     "output_type": "execute_result"
    }
   ],
   "source": [
    "data_dropna.shape"
   ]
  },
  {
   "cell_type": "markdown",
   "metadata": {},
   "source": [
    "## Step 2 Preprocess text data"
   ]
  },
  {
   "cell_type": "code",
   "execution_count": 3,
   "metadata": {},
   "outputs": [],
   "source": [
    "def preprocess_text(df):\n",
    "    # This function preprocesses the text by filling not a number and replacing new lines ('\\n') and carriage returns ('\\r')\n",
    "    df = df.fillna(' ')\n",
    "    df = df.str.replace('\\n',' ')\n",
    "    df = df.str.replace('\\r',' ')\n",
    "    return df"
   ]
  },
  {
   "cell_type": "code",
   "execution_count": 4,
   "metadata": {},
   "outputs": [],
   "source": [
    "import nltk\n",
    "from nltk.tokenize import word_tokenize\n",
    "import string\n",
    "\n",
    "my_stop_words = ['the','and','to','of','was','with','a','on','in','for','name',\n",
    "                 'is','patient','s','he','at','as','or','one','she','his','her','am',\n",
    "                 'were','you','pt','pm','by','be','had','your','this','date',\n",
    "                'from','there','an','that','p','are','have','has','h','but','o',\n",
    "                'namepattern','which','every','also','t','that','of','y',]\n",
    "\n",
    "def tokenizer_better(text):\n",
    "    # tokenize the text by replacing punctuation and numbers with spaces and lowercase all words\n",
    "    punc_list = string.punctuation+'0123456789'\n",
    "    t = str.maketrans(dict.fromkeys(punc_list, \" \"))\n",
    "    text = text.lower().translate(t)\n",
    "    tokens = word_tokenize(text)\n",
    "    filtered_tokens = [w for w in tokens if not w in my_stop_words] \n",
    "    return filtered_tokens\n",
    "\n",
    "d1 = preprocess_text(data_dropna['summary'])\n",
    "summary=d1.apply(tokenizer_better)"
   ]
  },
  {
   "cell_type": "code",
   "execution_count": 5,
   "metadata": {},
   "outputs": [
    {
     "name": "stderr",
     "output_type": "stream",
     "text": [
      "Using TensorFlow backend.\n"
     ]
    }
   ],
   "source": [
    "import tensorflow as tf\n",
    "from keras.preprocessing.text import Tokenizer\n",
    "from keras.preprocessing.sequence import pad_sequences\n",
    "from keras.utils import to_categorical\n",
    "from keras.layers import Dense, Input, Flatten, Dropout\n",
    "from keras.layers import LSTM, Embedding,GRU\n",
    "from keras.models import Sequential\n",
    "import numpy as np"
   ]
  },
  {
   "cell_type": "markdown",
   "metadata": {},
   "source": [
    "use below code to convert label to two columns (catogorical)"
   ]
  },
  {
   "cell_type": "code",
   "execution_count": 6,
   "metadata": {},
   "outputs": [
    {
     "name": "stdout",
     "output_type": "stream",
     "text": [
      "Found 23189 unique tokens.\n",
      "Shape of data tensor: (1377, 100)\n",
      "Shape of label tensor: (1377, 2)\n"
     ]
    }
   ],
   "source": [
    "#预定义变量\n",
    "MAX_SEQUENCE_LENGTH = 100    #最大序列长度\n",
    "EMBEDDING_DIM = 200    #embdding 维度\n",
    "VALIDATION_SPLIT = 0.16    #验证集比例\n",
    "TEST_SPLIT = 0.2    #测试集比例\n",
    "#keras的sequence模块文本序列填充\n",
    "tokenizer = Tokenizer()\n",
    "tokenizer.fit_on_texts(summary)\n",
    "sequences = tokenizer.texts_to_sequences(summary)\n",
    "word_index = tokenizer.word_index\n",
    "print('Found %s unique tokens.' % len(word_index))\n",
    "data_text = pad_sequences(sequences, maxlen=MAX_SEQUENCE_LENGTH)\n",
    "label = to_categorical(np.asarray(data_dropna['label']))\n",
    "#label = np.asarray(data_dropna['label'])\n",
    "print('Shape of data tensor:', data_text.shape)\n",
    "print('Shape of label tensor:', label.shape)"
   ]
  },
  {
   "cell_type": "markdown",
   "metadata": {},
   "source": [
    "Get test data from original data, then upsample the positives and split training and validation datasets"
   ]
  },
  {
   "cell_type": "code",
   "execution_count": 7,
   "metadata": {},
   "outputs": [],
   "source": [
    "# Split test dataset and upsampling training data\n",
    "from sklearn.model_selection import train_test_split\n",
    "\n",
    "x_train_pre,x_test,y_train_pre,y_test=train_test_split(pd.DataFrame(data_text),pd.DataFrame(label,columns=['No','Yes']),test_size=0.2)\n",
    "\n",
    "\n",
    "X = pd.concat([x_train_pre, y_train_pre], axis=1)\n",
    "\n",
    "# Divide by class\n",
    "df_class_0 = X[X['Yes'] == 0]\n",
    "df_class_1 = X[X['Yes'] == 1]\n",
    "\n",
    "#Upsampling positive samples in training dataset\n",
    "df_class_1_upsample = df_class_1.sample(df_class_0.shape[0], replace=True)\n",
    "\n",
    "df_over = pd.concat([df_class_1_upsample, df_class_0], axis=0)\n",
    "df_over.shape\n",
    "# # shuffle the order of training samples \n",
    "df_all = df_over.sample(len(df_over['Yes']), random_state = 42).reset_index(drop = True)\n",
    "\n",
    "#from df_all to get training and validation datasets\n",
    "#p1 = int()*(1-VALIDATION_SPLIT)\n",
    "p1 = int(df_all.shape[0]*(1-VALIDATION_SPLIT))\n",
    "\n",
    "x_train = df_all.iloc[:,:-2][:p1]\n",
    "y_train = df_all.iloc[:,[-2,-1]][:p1]\n",
    "x_val = df_all.iloc[:,:-2][p1:]\n",
    "y_val = df_all.iloc[:,[-2,-1]][p1:]"
   ]
  },
  {
   "cell_type": "markdown",
   "metadata": {},
   "source": [
    "# Step 3 Training and evaluating model"
   ]
  },
  {
   "cell_type": "code",
   "execution_count": 8,
   "metadata": {},
   "outputs": [
    {
     "name": "stdout",
     "output_type": "stream",
     "text": [
      "Model: \"sequential_1\"\n",
      "_________________________________________________________________\n",
      "Layer (type)                 Output Shape              Param #   \n",
      "=================================================================\n",
      "embedding_1 (Embedding)      (None, 100, 200)          4638000   \n",
      "_________________________________________________________________\n",
      "lstm_1 (LSTM)                (None, 200)               320800    \n",
      "_________________________________________________________________\n",
      "dropout_1 (Dropout)          (None, 200)               0         \n",
      "_________________________________________________________________\n",
      "dense_1 (Dense)              (None, 32)                6432      \n",
      "_________________________________________________________________\n",
      "dense_2 (Dense)              (None, 2)                 66        \n",
      "=================================================================\n",
      "Total params: 4,965,298\n",
      "Trainable params: 4,965,298\n",
      "Non-trainable params: 0\n",
      "_________________________________________________________________\n"
     ]
    }
   ],
   "source": [
    "#LSTM Model\n",
    "MAX_SEQUENCE_LENGTH = 100   \n",
    "EMBEDDING_DIM = 200    #embdding dimension\n",
    "\n",
    "model = Sequential()\n",
    "model.add(Embedding(len(word_index) + 1, EMBEDDING_DIM, input_length=MAX_SEQUENCE_LENGTH))\n",
    "model.add(LSTM(EMBEDDING_DIM, dropout=0.4, recurrent_dropout=0.4))\n",
    "model.add(Dropout(0.4))\n",
    "model.add(Dense(32, activation='relu'))\n",
    "model.add(Dense(label.shape[1], activation='softmax'))\n",
    "model.summary()"
   ]
  },
  {
   "cell_type": "code",
   "execution_count": 9,
   "metadata": {},
   "outputs": [],
   "source": [
    "from keras import backend as K\n",
    "\n",
    "def recall_m(y_true, y_pred):\n",
    "        true_positives = K.sum(K.round(K.clip(y_true * y_pred, 0, 1)))\n",
    "        possible_positives = K.sum(K.round(K.clip(y_true, 0, 1)))\n",
    "        recall = true_positives / (possible_positives + K.epsilon())\n",
    "        return recall\n",
    "\n",
    "def precision_m(y_true, y_pred):\n",
    "        true_positives = K.sum(K.round(K.clip(y_true * y_pred, 0, 1)))\n",
    "        predicted_positives = K.sum(K.round(K.clip(y_pred, 0, 1)))\n",
    "        precision = true_positives / (predicted_positives + K.epsilon())\n",
    "        return precision\n",
    "\n",
    "def f1_m(y_true, y_pred):\n",
    "    precision = precision_m(y_true, y_pred)\n",
    "    recall = recall_m(y_true, y_pred)\n",
    "    return 2*((precision*recall)/(precision+recall+K.epsilon()))\n",
    "\n",
    "# # compile the model\n",
    "# model.compile(optimizer='adam', loss='binary_crossentropy', metrics=['acc',f1_m,precision_m, recall_m])\n",
    "\n",
    "# # fit the model\n",
    "# history = model.fit(Xtrain, ytrain, validation_split=0.3, epochs=10, verbose=0)\n",
    "\n",
    "# # evaluate the model\n",
    "# loss, accuracy, f1_score, precision, recall = model.evaluate(Xtest, ytest, verbose=0)"
   ]
  },
  {
   "cell_type": "markdown",
   "metadata": {},
   "source": [
    "#### 1. Try loss='categorical_crossentropy' and optimizer='rmsprop' method"
   ]
  },
  {
   "cell_type": "code",
   "execution_count": 10,
   "metadata": {
    "scrolled": true
   },
   "outputs": [
    {
     "name": "stdout",
     "output_type": "stream",
     "text": [
      "['loss', 'acc', 'recall_m', 'precision_m', 'f1_m']\n"
     ]
    },
    {
     "name": "stderr",
     "output_type": "stream",
     "text": [
      "/opt/anaconda3/lib/python3.7/site-packages/tensorflow_core/python/framework/indexed_slices.py:424: UserWarning: Converting sparse IndexedSlices to a dense Tensor of unknown shape. This may consume a large amount of memory.\n",
      "  \"Converting sparse IndexedSlices to a dense Tensor of unknown shape. \"\n"
     ]
    },
    {
     "name": "stdout",
     "output_type": "stream",
     "text": [
      "Train on 1540 samples, validate on 294 samples\n",
      "Epoch 1/10\n",
      "1540/1540 [==============================] - 8s 5ms/step - loss: 0.6857 - acc: 0.5487 - recall_m: 0.5451 - precision_m: 0.5451 - f1_m: 0.5451 - val_loss: 0.6501 - val_acc: 0.6190 - val_recall_m: 0.5973 - val_precision_m: 0.5973 - val_f1_m: 0.5973\n",
      "Epoch 2/10\n",
      "1540/1540 [==============================] - 7s 5ms/step - loss: 0.6262 - acc: 0.6617 - recall_m: 0.6683 - precision_m: 0.6683 - f1_m: 0.6683 - val_loss: 0.6462 - val_acc: 0.6293 - val_recall_m: 0.6298 - val_precision_m: 0.6298 - val_f1_m: 0.6298\n",
      "Epoch 3/10\n",
      "1540/1540 [==============================] - 9s 6ms/step - loss: 0.5655 - acc: 0.7240 - recall_m: 0.7073 - precision_m: 0.7073 - f1_m: 0.7073 - val_loss: 0.5828 - val_acc: 0.6973 - val_recall_m: 0.6757 - val_precision_m: 0.6757 - val_f1_m: 0.6757\n",
      "Epoch 4/10\n",
      "1540/1540 [==============================] - 8s 6ms/step - loss: 0.5104 - acc: 0.7786 - recall_m: 0.7951 - precision_m: 0.7951 - f1_m: 0.7951 - val_loss: 0.5996 - val_acc: 0.7381 - val_recall_m: 0.7255 - val_precision_m: 0.7255 - val_f1_m: 0.7255\n",
      "Epoch 5/10\n",
      "1540/1540 [==============================] - 9s 6ms/step - loss: 0.4437 - acc: 0.8084 - recall_m: 0.8041 - precision_m: 0.8041 - f1_m: 0.8041 - val_loss: 0.5912 - val_acc: 0.8061 - val_recall_m: 0.8146 - val_precision_m: 0.8146 - val_f1_m: 0.8146\n",
      "Epoch 6/10\n",
      "1540/1540 [==============================] - 10s 7ms/step - loss: 0.4174 - acc: 0.8325 - recall_m: 0.8450 - precision_m: 0.8450 - f1_m: 0.8450 - val_loss: 0.5606 - val_acc: 0.7143 - val_recall_m: 0.7134 - val_precision_m: 0.7134 - val_f1_m: 0.7134\n",
      "Epoch 7/10\n",
      "1540/1540 [==============================] - 9s 6ms/step - loss: 0.3236 - acc: 0.8786 - recall_m: 0.8876 - precision_m: 0.8876 - f1_m: 0.8876 - val_loss: 0.8006 - val_acc: 0.7755 - val_recall_m: 0.7788 - val_precision_m: 0.7788 - val_f1_m: 0.7788\n",
      "Epoch 8/10\n",
      "1540/1540 [==============================] - 7s 5ms/step - loss: 0.3800 - acc: 0.8669 - recall_m: 0.8582 - precision_m: 0.8582 - f1_m: 0.8582 - val_loss: 0.3717 - val_acc: 0.8197 - val_recall_m: 0.8126 - val_precision_m: 0.8126 - val_f1_m: 0.8126\n",
      "Epoch 9/10\n",
      "1540/1540 [==============================] - 9s 6ms/step - loss: 0.2703 - acc: 0.8922 - recall_m: 0.9002 - precision_m: 0.9002 - f1_m: 0.9002 - val_loss: 0.3725 - val_acc: 0.8265 - val_recall_m: 0.8178 - val_precision_m: 0.8178 - val_f1_m: 0.8178\n",
      "Epoch 10/10\n",
      "1540/1540 [==============================] - 9s 6ms/step - loss: 0.2485 - acc: 0.9091 - recall_m: 0.9159 - precision_m: 0.9159 - f1_m: 0.9159 - val_loss: 0.3881 - val_acc: 0.8537 - val_recall_m: 0.8448 - val_precision_m: 0.8448 - val_f1_m: 0.8448\n"
     ]
    }
   ],
   "source": [
    "#Compile Model\n",
    "model.compile(loss='categorical_crossentropy',\n",
    "              optimizer='rmsprop',\n",
    "              metrics=['acc',recall_m,precision_m,f1_m])\n",
    "print(model.metrics_names)\n",
    "model.fit(x_train, y_train, validation_data=(x_val, y_val), epochs=10, batch_size=128)\n",
    "model.save('lstm.h5')"
   ]
  },
  {
   "cell_type": "code",
   "execution_count": 11,
   "metadata": {},
   "outputs": [
    {
     "name": "stdout",
     "output_type": "stream",
     "text": [
      "loss 0.78, accuracy 0.67, recall 0.68, precision 0.68, f1 0.68\n"
     ]
    }
   ],
   "source": [
    "loss, accuracy, recall, precision, f1 = model.evaluate(x_test, y_test, verbose=0)\n",
    "print('loss {:.2f}, accuracy {:.2f}, recall {:.2f}, precision {:.2f}, f1 {:.2f}'.format(loss, accuracy, recall, precision, f1))"
   ]
  },
  {
   "cell_type": "code",
   "execution_count": 14,
   "metadata": {},
   "outputs": [
    {
     "name": "stdout",
     "output_type": "stream",
     "text": [
      "276/276 [==============================] - 1s 2ms/step\n"
     ]
    },
    {
     "data": {
      "text/plain": [
       "array([0, 0, 1, 0, 0, 0, 0, 1, 0, 0, 0, 1, 1, 1, 0, 0, 1, 1, 0, 0, 1, 0,\n",
       "       0, 1, 1, 0, 0, 0, 0, 1, 0, 1, 1, 0, 0, 0, 0, 0, 0, 1, 0, 0, 0, 0,\n",
       "       0, 1, 1, 1, 0, 1, 0, 0, 0, 0, 0, 0, 0, 0, 0, 0, 0, 0, 0, 0, 1, 1,\n",
       "       0, 1, 0, 0, 0, 1, 0, 1, 0, 1, 0, 0, 0, 0, 0, 0, 1, 0, 1, 1, 0, 0,\n",
       "       1, 0, 0, 0, 0, 1, 0, 0, 0, 0, 0, 0, 0, 0, 1, 0, 0, 1, 0, 0, 1, 0,\n",
       "       0, 0, 0, 0, 1, 0, 0, 1, 1, 0, 1, 1, 0, 1, 0, 0, 0, 1, 0, 0, 0, 0,\n",
       "       0, 0, 0, 1, 0, 0, 1, 1, 1, 1, 1, 0, 0, 0, 0, 0, 0, 1, 0, 1, 0, 1,\n",
       "       0, 0, 1, 0, 0, 0, 0, 0, 1, 1, 0, 0, 0, 0, 0, 1, 1, 0, 0, 0, 0, 0,\n",
       "       0, 0, 0, 0, 0, 0, 0, 0, 0, 0, 0, 1, 1, 0, 1, 0, 0, 1, 0, 0, 0, 0,\n",
       "       0, 0, 0, 0, 0, 1, 1, 1, 0, 0, 0, 0, 0, 0, 0, 0, 0, 0, 0, 0, 0, 0,\n",
       "       0, 0, 1, 0, 0, 0, 1, 1, 0, 0, 0, 0, 0, 0, 0, 0, 0, 1, 0, 0, 0, 0,\n",
       "       1, 0, 1, 1, 0, 0, 0, 1, 1, 0, 0, 1, 1, 1, 0, 0, 0, 0, 0, 1, 0, 1,\n",
       "       1, 0, 0, 0, 1, 0, 1, 0, 0, 0, 0, 0])"
      ]
     },
     "execution_count": 14,
     "metadata": {},
     "output_type": "execute_result"
    }
   ],
   "source": [
    "model.predict_classes(x_test, verbose=1)"
   ]
  },
  {
   "cell_type": "markdown",
   "metadata": {},
   "source": [
    "#### 2.Try loss='binary_crossentropy',optimizer='SGD' method"
   ]
  },
  {
   "cell_type": "code",
   "execution_count": 11,
   "metadata": {},
   "outputs": [
    {
     "name": "stdout",
     "output_type": "stream",
     "text": [
      "['loss', 'acc', 'recall_m', 'precision_m', 'f1_m']\n",
      "WARNING:tensorflow:From /opt/anaconda3/lib/python3.7/site-packages/tensorflow_core/python/ops/math_grad.py:1424: where (from tensorflow.python.ops.array_ops) is deprecated and will be removed in a future version.\n",
      "Instructions for updating:\n",
      "Use tf.where in 2.0, which has the same broadcast rule as np.where\n"
     ]
    },
    {
     "name": "stderr",
     "output_type": "stream",
     "text": [
      "/opt/anaconda3/lib/python3.7/site-packages/tensorflow_core/python/framework/indexed_slices.py:424: UserWarning: Converting sparse IndexedSlices to a dense Tensor of unknown shape. This may consume a large amount of memory.\n",
      "  \"Converting sparse IndexedSlices to a dense Tensor of unknown shape. \"\n"
     ]
    },
    {
     "name": "stdout",
     "output_type": "stream",
     "text": [
      "Train on 1548 samples, validate on 296 samples\n",
      "Epoch 1/10\n",
      "1548/1548 [==============================] - 10s 6ms/step - loss: 0.6937 - acc: 0.4871 - recall_m: 0.4996 - precision_m: 0.4996 - f1_m: 0.4996 - val_loss: 0.6935 - val_acc: 0.4899 - val_recall_m: 0.4979 - val_precision_m: 0.4979 - val_f1_m: 0.4979\n",
      "Epoch 2/10\n",
      "1548/1548 [==============================] - 8s 5ms/step - loss: 0.6932 - acc: 0.5019 - recall_m: 0.5018 - precision_m: 0.5018 - f1_m: 0.5018 - val_loss: 0.6934 - val_acc: 0.4966 - val_recall_m: 0.5089 - val_precision_m: 0.5089 - val_f1_m: 0.5089\n",
      "Epoch 3/10\n",
      "1548/1548 [==============================] - 9s 6ms/step - loss: 0.6936 - acc: 0.5000 - recall_m: 0.4942 - precision_m: 0.4942 - f1_m: 0.4942 - val_loss: 0.6931 - val_acc: 0.4865 - val_recall_m: 0.4896 - val_precision_m: 0.4896 - val_f1_m: 0.4896\n",
      "Epoch 4/10\n",
      "1548/1548 [==============================] - 9s 6ms/step - loss: 0.6934 - acc: 0.5039 - recall_m: 0.5210 - precision_m: 0.5210 - f1_m: 0.5210 - val_loss: 0.6929 - val_acc: 0.4662 - val_recall_m: 0.4568 - val_precision_m: 0.4568 - val_f1_m: 0.4568\n",
      "Epoch 5/10\n",
      "1548/1548 [==============================] - 10s 7ms/step - loss: 0.6934 - acc: 0.4942 - recall_m: 0.4830 - precision_m: 0.4830 - f1_m: 0.4830 - val_loss: 0.6932 - val_acc: 0.5034 - val_recall_m: 0.5198 - val_precision_m: 0.5198 - val_f1_m: 0.5198\n",
      "Epoch 6/10\n",
      "1548/1548 [==============================] - 8s 5ms/step - loss: 0.6929 - acc: 0.5129 - recall_m: 0.5062 - precision_m: 0.5062 - f1_m: 0.5062 - val_loss: 0.6932 - val_acc: 0.5236 - val_recall_m: 0.5297 - val_precision_m: 0.5297 - val_f1_m: 0.5297\n",
      "Epoch 7/10\n",
      "1548/1548 [==============================] - 7s 5ms/step - loss: 0.6933 - acc: 0.4968 - recall_m: 0.4970 - precision_m: 0.4970 - f1_m: 0.4970 - val_loss: 0.6930 - val_acc: 0.5236 - val_recall_m: 0.5297 - val_precision_m: 0.5297 - val_f1_m: 0.5297\n",
      "Epoch 8/10\n",
      "1548/1548 [==============================] - 7s 5ms/step - loss: 0.6927 - acc: 0.5184 - recall_m: 0.5343 - precision_m: 0.5346 - f1_m: 0.5344 - val_loss: 0.6930 - val_acc: 0.5169 - val_recall_m: 0.5130 - val_precision_m: 0.5130 - val_f1_m: 0.5130\n",
      "Epoch 9/10\n",
      "1548/1548 [==============================] - 8s 5ms/step - loss: 0.6930 - acc: 0.5110 - recall_m: 0.5044 - precision_m: 0.5044 - f1_m: 0.5044 - val_loss: 0.6928 - val_acc: 0.5642 - val_recall_m: 0.5552 - val_precision_m: 0.5552 - val_f1_m: 0.5552\n",
      "Epoch 10/10\n",
      "1548/1548 [==============================] - 7s 5ms/step - loss: 0.6928 - acc: 0.5317 - recall_m: 0.5353 - precision_m: 0.5353 - f1_m: 0.5353 - val_loss: 0.6927 - val_acc: 0.5541 - val_recall_m: 0.5474 - val_precision_m: 0.5474 - val_f1_m: 0.5474\n"
     ]
    }
   ],
   "source": [
    "model.compile(loss='binary_crossentropy',\n",
    "              optimizer='SGD',\n",
    "              metrics=['acc',recall_m,precision_m,f1_m])\n",
    "print(model.metrics_names)\n",
    "model.fit(x_train, y_train, validation_data=(x_val, y_val), epochs=10, batch_size=128)\n",
    "model.save('lstm.h5')"
   ]
  },
  {
   "cell_type": "code",
   "execution_count": 12,
   "metadata": {},
   "outputs": [
    {
     "name": "stdout",
     "output_type": "stream",
     "text": [
      "loss 0.69, accuracy 0.58, recall 0.58, precision 0.58, f1 0.58\n"
     ]
    }
   ],
   "source": [
    "loss, accuracy, recall, precision, f1 = model.evaluate(x_test, y_test, verbose=0)\n",
    "print('loss {:.2f}, accuracy {:.2f}, recall {:.2f}, precision {:.2f}, f1 {:.2f}'.format(loss, accuracy, recall, precision, f1))"
   ]
  },
  {
   "cell_type": "code",
   "execution_count": 13,
   "metadata": {},
   "outputs": [
    {
     "name": "stdout",
     "output_type": "stream",
     "text": [
      "276/276 [==============================] - 1s 2ms/step\n"
     ]
    }
   ],
   "source": [
    "y_pred2 = model.predict_classes(x_test, verbose=1)"
   ]
  },
  {
   "cell_type": "markdown",
   "metadata": {},
   "source": [
    "#### 3.Try loss='categorical_crossentropy',optimizer='adam' method"
   ]
  },
  {
   "cell_type": "code",
   "execution_count": 10,
   "metadata": {
    "scrolled": true
   },
   "outputs": [
    {
     "name": "stdout",
     "output_type": "stream",
     "text": [
      "['loss', 'acc', 'recall_m', 'precision_m', 'f1_m']\n"
     ]
    },
    {
     "name": "stderr",
     "output_type": "stream",
     "text": [
      "/opt/anaconda3/lib/python3.7/site-packages/tensorflow_core/python/framework/indexed_slices.py:424: UserWarning: Converting sparse IndexedSlices to a dense Tensor of unknown shape. This may consume a large amount of memory.\n",
      "  \"Converting sparse IndexedSlices to a dense Tensor of unknown shape. \"\n"
     ]
    },
    {
     "name": "stdout",
     "output_type": "stream",
     "text": [
      "Train on 1543 samples, validate on 295 samples\n",
      "Epoch 1/10\n",
      "1543/1543 [==============================] - 9s 6ms/step - loss: 0.6860 - acc: 0.5820 - recall_m: 0.5812 - precision_m: 0.5812 - f1_m: 0.5812 - val_loss: 0.6728 - val_acc: 0.6271 - val_recall_m: 0.6006 - val_precision_m: 0.6006 - val_f1_m: 0.6006\n",
      "Epoch 2/10\n",
      "1543/1543 [==============================] - 8s 5ms/step - loss: 0.6526 - acc: 0.6377 - recall_m: 0.6537 - precision_m: 0.6537 - f1_m: 0.6537 - val_loss: 0.6310 - val_acc: 0.6678 - val_recall_m: 0.6675 - val_precision_m: 0.6675 - val_f1_m: 0.6675\n",
      "Epoch 3/10\n",
      "1543/1543 [==============================] - 8s 5ms/step - loss: 0.5777 - acc: 0.7058 - recall_m: 0.7064 - precision_m: 0.7064 - f1_m: 0.7064 - val_loss: 0.5766 - val_acc: 0.7356 - val_recall_m: 0.7374 - val_precision_m: 0.7374 - val_f1_m: 0.7374\n",
      "Epoch 4/10\n",
      "1543/1543 [==============================] - 9s 6ms/step - loss: 0.5010 - acc: 0.7777 - recall_m: 0.7835 - precision_m: 0.7835 - f1_m: 0.7835 - val_loss: 0.5376 - val_acc: 0.7254 - val_recall_m: 0.7296 - val_precision_m: 0.7296 - val_f1_m: 0.7296\n",
      "Epoch 5/10\n",
      "1543/1543 [==============================] - 10s 6ms/step - loss: 0.4241 - acc: 0.8244 - recall_m: 0.8268 - precision_m: 0.8268 - f1_m: 0.8268 - val_loss: 0.4709 - val_acc: 0.7763 - val_recall_m: 0.7687 - val_precision_m: 0.7687 - val_f1_m: 0.7687\n",
      "Epoch 6/10\n",
      "1543/1543 [==============================] - 8s 5ms/step - loss: 0.3607 - acc: 0.8561 - recall_m: 0.8354 - precision_m: 0.8354 - f1_m: 0.8354 - val_loss: 0.4582 - val_acc: 0.7661 - val_recall_m: 0.7609 - val_precision_m: 0.7609 - val_f1_m: 0.7609\n",
      "Epoch 7/10\n",
      "1543/1543 [==============================] - 9s 6ms/step - loss: 0.3312 - acc: 0.8769 - recall_m: 0.8858 - precision_m: 0.8858 - f1_m: 0.8858 - val_loss: 0.4108 - val_acc: 0.8102 - val_recall_m: 0.8126 - val_precision_m: 0.8126 - val_f1_m: 0.8126\n",
      "Epoch 8/10\n",
      "1543/1543 [==============================] - 8s 5ms/step - loss: 0.2670 - acc: 0.8983 - recall_m: 0.8953 - precision_m: 0.8953 - f1_m: 0.8953 - val_loss: 0.3691 - val_acc: 0.8407 - val_recall_m: 0.8301 - val_precision_m: 0.8301 - val_f1_m: 0.8301\n",
      "Epoch 9/10\n",
      "1543/1543 [==============================] - 8s 5ms/step - loss: 0.2357 - acc: 0.9170 - recall_m: 0.9231 - precision_m: 0.9231 - f1_m: 0.9231 - val_loss: 0.3622 - val_acc: 0.8508 - val_recall_m: 0.8498 - val_precision_m: 0.8498 - val_f1_m: 0.8498\n",
      "Epoch 10/10\n",
      "1543/1543 [==============================] - 8s 5ms/step - loss: 0.2060 - acc: 0.9235 - recall_m: 0.9187 - precision_m: 0.9187 - f1_m: 0.9187 - val_loss: 0.3817 - val_acc: 0.8237 - val_recall_m: 0.8230 - val_precision_m: 0.8230 - val_f1_m: 0.8230\n"
     ]
    }
   ],
   "source": [
    "#模型编译\n",
    "model.compile(loss='categorical_crossentropy',\n",
    "              optimizer='adam',\n",
    "              metrics=['acc',recall_m,precision_m,f1_m])\n",
    "print(model.metrics_names)\n",
    "model.fit(x_train, y_train, validation_data=(x_val, y_val), epochs=10, batch_size=128)\n",
    "model.save('lstm.h5')"
   ]
  },
  {
   "cell_type": "code",
   "execution_count": 11,
   "metadata": {},
   "outputs": [
    {
     "name": "stdout",
     "output_type": "stream",
     "text": [
      "loss 0.75, accuracy 0.67, recall 0.67, precision 0.67, f1 0.67\n"
     ]
    }
   ],
   "source": [
    "loss, accuracy, recall, precision, f1 = model.evaluate(x_test, y_test, verbose=0)\n",
    "print('loss {:.2f}, accuracy {:.2f}, recall {:.2f}, precision {:.2f}, f1 {:.2f}'.format(loss, accuracy, recall, precision, f1))"
   ]
  },
  {
   "cell_type": "code",
   "execution_count": 12,
   "metadata": {},
   "outputs": [
    {
     "name": "stdout",
     "output_type": "stream",
     "text": [
      "276/276 [==============================] - 1s 3ms/step\n"
     ]
    }
   ],
   "source": [
    "y_pred3 = model.predict_classes(x_test, verbose=1)"
   ]
  },
  {
   "cell_type": "code",
   "execution_count": 40,
   "metadata": {},
   "outputs": [
    {
     "name": "stdout",
     "output_type": "stream",
     "text": [
      "276/276 [==============================] - 0s 2ms/step\n",
      "              precision    recall  f1-score   support\n",
      "\n",
      "           0       0.86      0.86      0.86       236\n",
      "           1       0.17      0.17      0.17        40\n",
      "\n",
      "    accuracy                           0.76       276\n",
      "   macro avg       0.52      0.52      0.52       276\n",
      "weighted avg       0.76      0.76      0.76       276\n",
      "\n"
     ]
    }
   ],
   "source": [
    "from sklearn.metrics import classification_report\n",
    "\n",
    "y_pred = model.predict(x_test, batch_size=64, verbose=1)\n",
    "y_pred_bool = np.argmax(y_pred, axis=1)\n",
    "\n",
    "\n",
    "print(classification_report(test_y, y_pred_bool))"
   ]
  },
  {
   "cell_type": "markdown",
   "metadata": {},
   "source": [
    "#### 4.Try focal_loss,optimizer='adam' method"
   ]
  },
  {
   "cell_type": "code",
   "execution_count": 10,
   "metadata": {},
   "outputs": [],
   "source": [
    "def focal_loss(gamma=2., alpha=.25):\n",
    "\tdef focal_loss_fixed(y_true, y_pred):\n",
    "\t\tpt_1 = tf.where(tf.equal(y_true, 1), y_pred, tf.ones_like(y_pred))\n",
    "\t\tpt_0 = tf.where(tf.equal(y_true, 0), y_pred, tf.zeros_like(y_pred))\n",
    "\t\treturn -K.mean(alpha * K.pow(1. - pt_1, gamma) * K.log(pt_1)) - K.mean((1 - alpha) * K.pow(pt_0, gamma) * K.log(1. - pt_0))\n",
    "\treturn focal_loss_fixed"
   ]
  },
  {
   "cell_type": "code",
   "execution_count": 11,
   "metadata": {},
   "outputs": [],
   "source": [
    "def binary_focal_loss(gamma=2., alpha=.25):\n",
    "    \"\"\"\n",
    "    Binary form of focal loss.\n",
    "      FL(p_t) = -alpha * (1 - p_t)**gamma * log(p_t)\n",
    "      where p = sigmoid(x), p_t = p or 1 - p depending on if the label is 1 or 0, respectively.\n",
    "    References:\n",
    "        https://arxiv.org/pdf/1708.02002.pdf\n",
    "    Usage:\n",
    "     model.compile(loss=[binary_focal_loss(alpha=.25, gamma=2)], metrics=[\"accuracy\"], optimizer=adam)\n",
    "    \"\"\"\n",
    "    def binary_focal_loss_fixed(y_true, y_pred):\n",
    "        \"\"\"\n",
    "        :param y_true: A tensor of the same shape as `y_pred`\n",
    "        :param y_pred:  A tensor resulting from a sigmoid\n",
    "        :return: Output tensor.\n",
    "        \"\"\"\n",
    "        pt_1 = tf.where(tf.equal(y_true, 1), y_pred, tf.ones_like(y_pred))\n",
    "        pt_0 = tf.where(tf.equal(y_true, 0), y_pred, tf.zeros_like(y_pred))\n",
    "\n",
    "        epsilon = K.epsilon()\n",
    "        # clip to prevent NaN's and Inf's\n",
    "        pt_1 = K.clip(pt_1, epsilon, 1. - epsilon)\n",
    "        pt_0 = K.clip(pt_0, epsilon, 1. - epsilon)\n",
    "\n",
    "        return -K.sum(alpha * K.pow(1. - pt_1, gamma) * K.log(pt_1)) \\\n",
    "               -K.sum((1 - alpha) * K.pow(pt_0, gamma) * K.log(1. - pt_0))\n",
    "\n",
    "    return binary_focal_loss_fixed"
   ]
  },
  {
   "cell_type": "code",
   "execution_count": 12,
   "metadata": {},
   "outputs": [
    {
     "name": "stdout",
     "output_type": "stream",
     "text": [
      "WARNING:tensorflow:From /opt/anaconda3/lib/python3.7/site-packages/tensorflow_core/python/ops/math_grad.py:1375: where (from tensorflow.python.ops.array_ops) is deprecated and will be removed in a future version.\n",
      "Instructions for updating:\n",
      "Use tf.where in 2.0, which has the same broadcast rule as np.where\n"
     ]
    },
    {
     "name": "stderr",
     "output_type": "stream",
     "text": [
      "/opt/anaconda3/lib/python3.7/site-packages/tensorflow_core/python/framework/indexed_slices.py:424: UserWarning: Converting sparse IndexedSlices to a dense Tensor of unknown shape. This may consume a large amount of memory.\n",
      "  \"Converting sparse IndexedSlices to a dense Tensor of unknown shape. \"\n"
     ]
    },
    {
     "name": "stdout",
     "output_type": "stream",
     "text": [
      "Train on 1528 samples, validate on 292 samples\n",
      "Epoch 1/10\n",
      "1528/1528 [==============================] - 9s 6ms/step - loss: 10.9643 - acc: 0.5471 - recall_m: 0.5475 - precision_m: 0.5475 - f1_m: 0.5475 - val_loss: 10.0448 - val_acc: 0.5993 - val_recall_m: 0.6088 - val_precision_m: 0.6088 - val_f1_m: 0.6088\n",
      "Epoch 2/10\n",
      "1528/1528 [==============================] - 8s 5ms/step - loss: 10.3999 - acc: 0.6446 - recall_m: 0.6444 - precision_m: 0.6444 - f1_m: 0.6444 - val_loss: 9.5632 - val_acc: 0.6062 - val_recall_m: 0.6073 - val_precision_m: 0.6073 - val_f1_m: 0.6073\n",
      "Epoch 3/10\n",
      "1528/1528 [==============================] - 8s 5ms/step - loss: 9.1436 - acc: 0.7317 - recall_m: 0.7319 - precision_m: 0.7319 - f1_m: 0.7319 - val_loss: 8.4079 - val_acc: 0.6986 - val_recall_m: 0.7109 - val_precision_m: 0.7109 - val_f1_m: 0.7109\n",
      "Epoch 4/10\n",
      "1528/1528 [==============================] - 8s 5ms/step - loss: 7.8727 - acc: 0.7742 - recall_m: 0.7740 - precision_m: 0.7740 - f1_m: 0.7740 - val_loss: 7.6598 - val_acc: 0.7432 - val_recall_m: 0.7514 - val_precision_m: 0.7514 - val_f1_m: 0.7514\n",
      "Epoch 5/10\n",
      "1528/1528 [==============================] - 9s 6ms/step - loss: 6.9533 - acc: 0.8076 - recall_m: 0.8076 - precision_m: 0.8076 - f1_m: 0.8076 - val_loss: 6.8361 - val_acc: 0.8014 - val_recall_m: 0.8090 - val_precision_m: 0.8090 - val_f1_m: 0.8090\n",
      "Epoch 6/10\n",
      "1528/1528 [==============================] - 8s 6ms/step - loss: 6.3306 - acc: 0.8331 - recall_m: 0.8332 - precision_m: 0.8332 - f1_m: 0.8332 - val_loss: 6.3978 - val_acc: 0.7808 - val_recall_m: 0.7934 - val_precision_m: 0.7934 - val_f1_m: 0.7934\n",
      "Epoch 7/10\n",
      "1528/1528 [==============================] - 8s 5ms/step - loss: 5.5011 - acc: 0.8698 - recall_m: 0.8698 - precision_m: 0.8698 - f1_m: 0.8698 - val_loss: 5.8370 - val_acc: 0.7774 - val_recall_m: 0.7908 - val_precision_m: 0.7908 - val_f1_m: 0.7908\n",
      "Epoch 8/10\n",
      "1528/1528 [==============================] - 8s 5ms/step - loss: 4.4277 - acc: 0.8973 - recall_m: 0.8974 - precision_m: 0.8974 - f1_m: 0.8974 - val_loss: 5.4252 - val_acc: 0.8527 - val_recall_m: 0.8614 - val_precision_m: 0.8614 - val_f1_m: 0.8614\n",
      "Epoch 9/10\n",
      "1528/1528 [==============================] - 8s 5ms/step - loss: 3.4628 - acc: 0.9103 - recall_m: 0.9102 - precision_m: 0.9102 - f1_m: 0.9102 - val_loss: 5.3516 - val_acc: 0.8973 - val_recall_m: 0.9019 - val_precision_m: 0.9019 - val_f1_m: 0.9019\n",
      "Epoch 10/10\n",
      "1528/1528 [==============================] - 8s 5ms/step - loss: 3.7354 - acc: 0.9247 - recall_m: 0.9247 - precision_m: 0.9247 - f1_m: 0.9247 - val_loss: 5.2373 - val_acc: 0.8630 - val_recall_m: 0.8626 - val_precision_m: 0.8626 - val_f1_m: 0.8626\n"
     ]
    }
   ],
   "source": [
    "#模型编译\n",
    "# model.compile(loss=focal_loss(alpha=.25, gamma=2),\n",
    "#               optimizer='adam',\n",
    "#               metrics=['acc',recall_m,precision_m,f1_m])\n",
    "model.compile(loss=[binary_focal_loss(alpha=.25, gamma=3)], \n",
    "              metrics=['acc',recall_m,precision_m,f1_m], \n",
    "              optimizer='adam')\n",
    "\n",
    "model.fit(x_train, y_train, validation_data=(x_val, y_val), epochs=10, batch_size=128)\n",
    "model.save('lstm.h5')"
   ]
  },
  {
   "cell_type": "code",
   "execution_count": 13,
   "metadata": {},
   "outputs": [
    {
     "name": "stdout",
     "output_type": "stream",
     "text": [
      "loss 3.30, accuracy 0.70, recall 0.71, precision 0.71, f1 0.71\n"
     ]
    }
   ],
   "source": [
    "loss, accuracy, recall, precision, f1 = model.evaluate(x_test, y_test, verbose=0)\n",
    "print('loss {:.2f}, accuracy {:.2f}, recall {:.2f}, precision {:.2f}, f1 {:.2f}'.format(loss, accuracy, recall, precision, f1))"
   ]
  },
  {
   "cell_type": "code",
   "execution_count": null,
   "metadata": {},
   "outputs": [],
   "source": [
    "y_pred4 = model.predict_classes(x_test, verbose=1)"
   ]
  },
  {
   "cell_type": "code",
   "execution_count": 16,
   "metadata": {},
   "outputs": [
    {
     "name": "stdout",
     "output_type": "stream",
     "text": [
      "Train on 1528 samples, validate on 292 samples\n",
      "Epoch 1/100\n",
      "1528/1528 [==============================] - 8s 5ms/step - loss: 0.5380 - acc: 0.9869 - recall_m: 0.9868 - precision_m: 0.9868 - f1_m: 0.9868 - val_loss: 15.0290 - val_acc: 0.8801 - val_recall_m: 0.8756 - val_precision_m: 0.8756 - val_f1_m: 0.8756\n",
      "Epoch 2/100\n",
      "1528/1528 [==============================] - 8s 5ms/step - loss: 0.4057 - acc: 0.9908 - recall_m: 0.9908 - precision_m: 0.9908 - f1_m: 0.9908 - val_loss: 15.3695 - val_acc: 0.8836 - val_recall_m: 0.8848 - val_precision_m: 0.8848 - val_f1_m: 0.8848\n",
      "Epoch 3/100\n",
      "1528/1528 [==============================] - 9s 6ms/step - loss: 0.5381 - acc: 0.9902 - recall_m: 0.9902 - precision_m: 0.9902 - f1_m: 0.9902 - val_loss: 11.8412 - val_acc: 0.9144 - val_recall_m: 0.9149 - val_precision_m: 0.9149 - val_f1_m: 0.9149\n",
      "Epoch 4/100\n",
      "1528/1528 [==============================] - 8s 5ms/step - loss: 0.4399 - acc: 0.9889 - recall_m: 0.9888 - precision_m: 0.9888 - f1_m: 0.9888 - val_loss: 18.0659 - val_acc: 0.8699 - val_recall_m: 0.8678 - val_precision_m: 0.8678 - val_f1_m: 0.8678\n",
      "Epoch 5/100\n",
      "1528/1528 [==============================] - 8s 5ms/step - loss: 0.3432 - acc: 0.9948 - recall_m: 0.9948 - precision_m: 0.9948 - f1_m: 0.9948 - val_loss: 16.0231 - val_acc: 0.9110 - val_recall_m: 0.9057 - val_precision_m: 0.9057 - val_f1_m: 0.9057\n",
      "Epoch 6/100\n",
      "1528/1528 [==============================] - 8s 5ms/step - loss: 0.6019 - acc: 0.9895 - recall_m: 0.9895 - precision_m: 0.9895 - f1_m: 0.9895 - val_loss: 19.0930 - val_acc: 0.8596 - val_recall_m: 0.8600 - val_precision_m: 0.8600 - val_f1_m: 0.8600\n",
      "Epoch 7/100\n",
      "1528/1528 [==============================] - 8s 5ms/step - loss: 0.5066 - acc: 0.9876 - recall_m: 0.9876 - precision_m: 0.9876 - f1_m: 0.9876 - val_loss: 16.4816 - val_acc: 0.9007 - val_recall_m: 0.8979 - val_precision_m: 0.8979 - val_f1_m: 0.8979\n",
      "Epoch 8/100\n",
      "1528/1528 [==============================] - 8s 5ms/step - loss: 0.4017 - acc: 0.9915 - recall_m: 0.9915 - precision_m: 0.9915 - f1_m: 0.9915 - val_loss: 22.0068 - val_acc: 0.8904 - val_recall_m: 0.8900 - val_precision_m: 0.8900 - val_f1_m: 0.8900\n",
      "Epoch 9/100\n",
      "1528/1528 [==============================] - 8s 5ms/step - loss: 0.4843 - acc: 0.9902 - recall_m: 0.9902 - precision_m: 0.9902 - f1_m: 0.9902 - val_loss: 23.2419 - val_acc: 0.8836 - val_recall_m: 0.8782 - val_precision_m: 0.8782 - val_f1_m: 0.8782\n",
      "Epoch 10/100\n",
      "1528/1528 [==============================] - 8s 5ms/step - loss: 0.3755 - acc: 0.9928 - recall_m: 0.9928 - precision_m: 0.9928 - f1_m: 0.9928 - val_loss: 18.7925 - val_acc: 0.9075 - val_recall_m: 0.9031 - val_precision_m: 0.9031 - val_f1_m: 0.9031\n",
      "Epoch 11/100\n",
      "1528/1528 [==============================] - 8s 5ms/step - loss: 0.3773 - acc: 0.9921 - recall_m: 0.9921 - precision_m: 0.9921 - f1_m: 0.9921 - val_loss: 14.4770 - val_acc: 0.8938 - val_recall_m: 0.8993 - val_precision_m: 0.8993 - val_f1_m: 0.8993\n",
      "Epoch 12/100\n",
      "1528/1528 [==============================] - 8s 5ms/step - loss: 0.3916 - acc: 0.9921 - recall_m: 0.9922 - precision_m: 0.9922 - f1_m: 0.9922 - val_loss: 14.8871 - val_acc: 0.8836 - val_recall_m: 0.8915 - val_precision_m: 0.8915 - val_f1_m: 0.8915\n",
      "Epoch 13/100\n",
      "1528/1528 [==============================] - 8s 5ms/step - loss: 0.4964 - acc: 0.9902 - recall_m: 0.9902 - precision_m: 0.9902 - f1_m: 0.9902 - val_loss: 17.2797 - val_acc: 0.8767 - val_recall_m: 0.8796 - val_precision_m: 0.8796 - val_f1_m: 0.8796\n",
      "Epoch 14/100\n",
      "1528/1528 [==============================] - 9s 6ms/step - loss: 0.4479 - acc: 0.9915 - recall_m: 0.9914 - precision_m: 0.9914 - f1_m: 0.9914 - val_loss: 20.3062 - val_acc: 0.8767 - val_recall_m: 0.8796 - val_precision_m: 0.8796 - val_f1_m: 0.8796\n",
      "Epoch 15/100\n",
      "1528/1528 [==============================] - 9s 6ms/step - loss: 0.5076 - acc: 0.9876 - recall_m: 0.9875 - precision_m: 0.9875 - f1_m: 0.9875 - val_loss: 16.0149 - val_acc: 0.8870 - val_recall_m: 0.8874 - val_precision_m: 0.8874 - val_f1_m: 0.8874\n",
      "Epoch 16/100\n",
      "1528/1528 [==============================] - 8s 5ms/step - loss: 0.5532 - acc: 0.9869 - recall_m: 0.9869 - precision_m: 0.9869 - f1_m: 0.9869 - val_loss: 13.7866 - val_acc: 0.9007 - val_recall_m: 0.8979 - val_precision_m: 0.8979 - val_f1_m: 0.8979\n",
      "Epoch 17/100\n",
      "1528/1528 [==============================] - 8s 5ms/step - loss: 0.4687 - acc: 0.9902 - recall_m: 0.9902 - precision_m: 0.9902 - f1_m: 0.9902 - val_loss: 16.6942 - val_acc: 0.8904 - val_recall_m: 0.8900 - val_precision_m: 0.8900 - val_f1_m: 0.8900\n",
      "Epoch 18/100\n",
      "1528/1528 [==============================] - 8s 5ms/step - loss: 0.5051 - acc: 0.9889 - recall_m: 0.9889 - precision_m: 0.9889 - f1_m: 0.9889 - val_loss: 15.0571 - val_acc: 0.9007 - val_recall_m: 0.9045 - val_precision_m: 0.9045 - val_f1_m: 0.9045\n",
      "Epoch 19/100\n",
      "1528/1528 [==============================] - 8s 5ms/step - loss: 0.4531 - acc: 0.9921 - recall_m: 0.9921 - precision_m: 0.9921 - f1_m: 0.9921 - val_loss: 16.2904 - val_acc: 0.8938 - val_recall_m: 0.8927 - val_precision_m: 0.8927 - val_f1_m: 0.8927\n",
      "Epoch 20/100\n",
      "1528/1528 [==============================] - 11s 8ms/step - loss: 0.3579 - acc: 0.9908 - recall_m: 0.9909 - precision_m: 0.9909 - f1_m: 0.9909 - val_loss: 22.0338 - val_acc: 0.8836 - val_recall_m: 0.8848 - val_precision_m: 0.8848 - val_f1_m: 0.8848\n",
      "Epoch 21/100\n",
      "1528/1528 [==============================] - 9s 6ms/step - loss: 0.3326 - acc: 0.9915 - recall_m: 0.9915 - precision_m: 0.9915 - f1_m: 0.9915 - val_loss: 25.5488 - val_acc: 0.8973 - val_recall_m: 0.8953 - val_precision_m: 0.8953 - val_f1_m: 0.8953\n",
      "Epoch 22/100\n",
      "1528/1528 [==============================] - 8s 5ms/step - loss: 0.8084 - acc: 0.9849 - recall_m: 0.9850 - precision_m: 0.9850 - f1_m: 0.9850 - val_loss: 13.2230 - val_acc: 0.8973 - val_recall_m: 0.9019 - val_precision_m: 0.9019 - val_f1_m: 0.9019\n",
      "Epoch 23/100\n",
      "1528/1528 [==============================] - 9s 6ms/step - loss: 0.6253 - acc: 0.9869 - recall_m: 0.9868 - precision_m: 0.9868 - f1_m: 0.9868 - val_loss: 16.7632 - val_acc: 0.8699 - val_recall_m: 0.8744 - val_precision_m: 0.8744 - val_f1_m: 0.8744\n",
      "Epoch 24/100\n",
      "1528/1528 [==============================] - 9s 6ms/step - loss: 0.6190 - acc: 0.9889 - recall_m: 0.9889 - precision_m: 0.9889 - f1_m: 0.9889 - val_loss: 14.5546 - val_acc: 0.8699 - val_recall_m: 0.8744 - val_precision_m: 0.8744 - val_f1_m: 0.8744\n",
      "Epoch 25/100\n",
      "1528/1528 [==============================] - 14s 9ms/step - loss: 0.4279 - acc: 0.9882 - recall_m: 0.9882 - precision_m: 0.9882 - f1_m: 0.9882 - val_loss: 17.1410 - val_acc: 0.8870 - val_recall_m: 0.8808 - val_precision_m: 0.8808 - val_f1_m: 0.8808\n",
      "Epoch 26/100\n",
      "1528/1528 [==============================] - 8s 5ms/step - loss: 0.9226 - acc: 0.9804 - recall_m: 0.9804 - precision_m: 0.9804 - f1_m: 0.9804 - val_loss: 6.8072 - val_acc: 0.9247 - val_recall_m: 0.9227 - val_precision_m: 0.9227 - val_f1_m: 0.9227\n",
      "Epoch 27/100\n",
      "1528/1528 [==============================] - 9s 6ms/step - loss: 0.9411 - acc: 0.9810 - recall_m: 0.9810 - precision_m: 0.9810 - f1_m: 0.9810 - val_loss: 12.7142 - val_acc: 0.8870 - val_recall_m: 0.8874 - val_precision_m: 0.8874 - val_f1_m: 0.8874\n",
      "Epoch 28/100\n",
      "1528/1528 [==============================] - 8s 5ms/step - loss: 0.5269 - acc: 0.9856 - recall_m: 0.9857 - precision_m: 0.9857 - f1_m: 0.9857 - val_loss: 15.7013 - val_acc: 0.8904 - val_recall_m: 0.8900 - val_precision_m: 0.8900 - val_f1_m: 0.8900\n",
      "Epoch 29/100\n",
      "1528/1528 [==============================] - 8s 5ms/step - loss: 0.4252 - acc: 0.9928 - recall_m: 0.9928 - precision_m: 0.9928 - f1_m: 0.9928 - val_loss: 18.9147 - val_acc: 0.8733 - val_recall_m: 0.8770 - val_precision_m: 0.8770 - val_f1_m: 0.8770\n",
      "Epoch 30/100\n",
      "1528/1528 [==============================] - 9s 6ms/step - loss: 0.4669 - acc: 0.9902 - recall_m: 0.9902 - precision_m: 0.9902 - f1_m: 0.9902 - val_loss: 14.0298 - val_acc: 0.8904 - val_recall_m: 0.8967 - val_precision_m: 0.8967 - val_f1_m: 0.8967\n",
      "Epoch 31/100\n",
      "1528/1528 [==============================] - 10s 7ms/step - loss: 0.3986 - acc: 0.9908 - recall_m: 0.9909 - precision_m: 0.9909 - f1_m: 0.9909 - val_loss: 17.3702 - val_acc: 0.8904 - val_recall_m: 0.8967 - val_precision_m: 0.8967 - val_f1_m: 0.8967\n",
      "Epoch 32/100\n"
     ]
    },
    {
     "name": "stdout",
     "output_type": "stream",
     "text": [
      "1528/1528 [==============================] - 13s 8ms/step - loss: 0.4021 - acc: 0.9882 - recall_m: 0.9883 - precision_m: 0.9883 - f1_m: 0.9883 - val_loss: 18.8162 - val_acc: 0.8767 - val_recall_m: 0.8796 - val_precision_m: 0.8796 - val_f1_m: 0.8796\n",
      "Epoch 33/100\n",
      "1528/1528 [==============================] - 11s 7ms/step - loss: 0.3668 - acc: 0.9895 - recall_m: 0.9895 - precision_m: 0.9895 - f1_m: 0.9895 - val_loss: 18.9567 - val_acc: 0.8870 - val_recall_m: 0.8874 - val_precision_m: 0.8874 - val_f1_m: 0.8874\n",
      "Epoch 34/100\n",
      "1528/1528 [==============================] - 11s 7ms/step - loss: 0.3754 - acc: 0.9908 - recall_m: 0.9908 - precision_m: 0.9908 - f1_m: 0.9908 - val_loss: 20.6857 - val_acc: 0.8699 - val_recall_m: 0.8744 - val_precision_m: 0.8744 - val_f1_m: 0.8744\n",
      "Epoch 35/100\n",
      "1528/1528 [==============================] - 10s 7ms/step - loss: 0.4128 - acc: 0.9895 - recall_m: 0.9895 - precision_m: 0.9895 - f1_m: 0.9895 - val_loss: 16.5239 - val_acc: 0.8904 - val_recall_m: 0.8900 - val_precision_m: 0.8900 - val_f1_m: 0.8900\n",
      "Epoch 36/100\n",
      "1528/1528 [==============================] - 8s 5ms/step - loss: 0.3311 - acc: 0.9935 - recall_m: 0.9934 - precision_m: 0.9934 - f1_m: 0.9934 - val_loss: 15.3262 - val_acc: 0.9110 - val_recall_m: 0.9123 - val_precision_m: 0.9123 - val_f1_m: 0.9123\n",
      "Epoch 37/100\n",
      "1528/1528 [==============================] - 9s 6ms/step - loss: 0.3449 - acc: 0.9921 - recall_m: 0.9922 - precision_m: 0.9922 - f1_m: 0.9922 - val_loss: 30.3729 - val_acc: 0.8459 - val_recall_m: 0.8429 - val_precision_m: 0.8429 - val_f1_m: 0.8429\n",
      "Epoch 38/100\n",
      "1528/1528 [==============================] - 10s 6ms/step - loss: 0.3655 - acc: 0.9921 - recall_m: 0.9921 - precision_m: 0.9921 - f1_m: 0.9921 - val_loss: 27.6573 - val_acc: 0.8870 - val_recall_m: 0.8808 - val_precision_m: 0.8808 - val_f1_m: 0.8808\n",
      "Epoch 39/100\n",
      "1528/1528 [==============================] - 10s 7ms/step - loss: 0.4846 - acc: 0.9915 - recall_m: 0.9915 - precision_m: 0.9915 - f1_m: 0.9915 - val_loss: 10.5793 - val_acc: 0.9281 - val_recall_m: 0.9253 - val_precision_m: 0.9253 - val_f1_m: 0.9253\n",
      "Epoch 40/100\n",
      "1528/1528 [==============================] - 8s 5ms/step - loss: 0.9380 - acc: 0.9817 - recall_m: 0.9818 - precision_m: 0.9818 - f1_m: 0.9818 - val_loss: 24.6265 - val_acc: 0.8733 - val_recall_m: 0.8770 - val_precision_m: 0.8770 - val_f1_m: 0.8770\n",
      "Epoch 41/100\n",
      "1528/1528 [==============================] - 9s 6ms/step - loss: 0.6718 - acc: 0.9863 - recall_m: 0.9863 - precision_m: 0.9863 - f1_m: 0.9863 - val_loss: 31.5386 - val_acc: 0.8425 - val_recall_m: 0.8469 - val_precision_m: 0.8469 - val_f1_m: 0.8469\n",
      "Epoch 42/100\n",
      "1528/1528 [==============================] - 8s 5ms/step - loss: 0.5534 - acc: 0.9876 - recall_m: 0.9876 - precision_m: 0.9876 - f1_m: 0.9876 - val_loss: 10.1241 - val_acc: 0.9212 - val_recall_m: 0.9201 - val_precision_m: 0.9201 - val_f1_m: 0.9201\n",
      "Epoch 43/100\n",
      "1528/1528 [==============================] - 9s 6ms/step - loss: 0.7071 - acc: 0.9902 - recall_m: 0.9902 - precision_m: 0.9902 - f1_m: 0.9902 - val_loss: 15.1734 - val_acc: 0.8836 - val_recall_m: 0.8848 - val_precision_m: 0.8848 - val_f1_m: 0.8848\n",
      "Epoch 44/100\n",
      "1528/1528 [==============================] - 8s 5ms/step - loss: 0.6592 - acc: 0.9876 - recall_m: 0.9875 - precision_m: 0.9875 - f1_m: 0.9875 - val_loss: 15.2649 - val_acc: 0.8973 - val_recall_m: 0.8953 - val_precision_m: 0.8953 - val_f1_m: 0.8953\n",
      "Epoch 45/100\n",
      "1528/1528 [==============================] - 11s 7ms/step - loss: 0.4545 - acc: 0.9882 - recall_m: 0.9883 - precision_m: 0.9883 - f1_m: 0.9883 - val_loss: 16.7718 - val_acc: 0.9007 - val_recall_m: 0.9045 - val_precision_m: 0.9045 - val_f1_m: 0.9045\n",
      "Epoch 46/100\n",
      "1528/1528 [==============================] - 13s 8ms/step - loss: 0.4145 - acc: 0.9908 - recall_m: 0.9908 - precision_m: 0.9908 - f1_m: 0.9908 - val_loss: 22.4231 - val_acc: 0.8767 - val_recall_m: 0.8730 - val_precision_m: 0.8730 - val_f1_m: 0.8730\n",
      "Epoch 47/100\n",
      "1528/1528 [==============================] - 10s 6ms/step - loss: 0.4929 - acc: 0.9928 - recall_m: 0.9928 - precision_m: 0.9928 - f1_m: 0.9928 - val_loss: 18.1113 - val_acc: 0.9041 - val_recall_m: 0.9071 - val_precision_m: 0.9071 - val_f1_m: 0.9071\n",
      "Epoch 48/100\n",
      "1528/1528 [==============================] - 10s 6ms/step - loss: 1.2425 - acc: 0.9764 - recall_m: 0.9763 - precision_m: 0.9763 - f1_m: 0.9763 - val_loss: 5.3047 - val_acc: 0.9384 - val_recall_m: 0.9332 - val_precision_m: 0.9332 - val_f1_m: 0.9332\n",
      "Epoch 49/100\n",
      "1528/1528 [==============================] - 10s 7ms/step - loss: 0.9385 - acc: 0.9810 - recall_m: 0.9810 - precision_m: 0.9810 - f1_m: 0.9810 - val_loss: 17.7710 - val_acc: 0.8596 - val_recall_m: 0.8666 - val_precision_m: 0.8666 - val_f1_m: 0.8666\n",
      "Epoch 50/100\n",
      "1528/1528 [==============================] - 9s 6ms/step - loss: 0.7539 - acc: 0.9836 - recall_m: 0.9835 - precision_m: 0.9835 - f1_m: 0.9835 - val_loss: 17.9982 - val_acc: 0.8938 - val_recall_m: 0.8927 - val_precision_m: 0.8927 - val_f1_m: 0.8927\n",
      "Epoch 51/100\n",
      "1528/1528 [==============================] - 8s 5ms/step - loss: 0.4728 - acc: 0.9876 - recall_m: 0.9876 - precision_m: 0.9876 - f1_m: 0.9876 - val_loss: 12.3089 - val_acc: 0.9075 - val_recall_m: 0.9097 - val_precision_m: 0.9097 - val_f1_m: 0.9097\n",
      "Epoch 52/100\n",
      "1528/1528 [==============================] - 8s 5ms/step - loss: 0.6603 - acc: 0.9908 - recall_m: 0.9908 - precision_m: 0.9908 - f1_m: 0.9908 - val_loss: 11.2282 - val_acc: 0.8767 - val_recall_m: 0.8796 - val_precision_m: 0.8796 - val_f1_m: 0.8796\n",
      "Epoch 53/100\n",
      "1528/1528 [==============================] - 8s 5ms/step - loss: 0.6058 - acc: 0.9882 - recall_m: 0.9883 - precision_m: 0.9883 - f1_m: 0.9883 - val_loss: 14.1901 - val_acc: 0.8664 - val_recall_m: 0.8652 - val_precision_m: 0.8652 - val_f1_m: 0.8652\n",
      "Epoch 54/100\n",
      "1528/1528 [==============================] - 8s 5ms/step - loss: 0.4762 - acc: 0.9902 - recall_m: 0.9902 - precision_m: 0.9902 - f1_m: 0.9902 - val_loss: 12.2866 - val_acc: 0.8938 - val_recall_m: 0.8927 - val_precision_m: 0.8927 - val_f1_m: 0.8927\n",
      "Epoch 55/100\n",
      "1528/1528 [==============================] - 7s 5ms/step - loss: 0.6015 - acc: 0.9882 - recall_m: 0.9881 - precision_m: 0.9881 - f1_m: 0.9881 - val_loss: 14.2735 - val_acc: 0.8664 - val_recall_m: 0.8718 - val_precision_m: 0.8718 - val_f1_m: 0.8718\n",
      "Epoch 56/100\n",
      "1528/1528 [==============================] - 10s 7ms/step - loss: 0.4602 - acc: 0.9895 - recall_m: 0.9895 - precision_m: 0.9895 - f1_m: 0.9895 - val_loss: 13.6687 - val_acc: 0.8870 - val_recall_m: 0.8874 - val_precision_m: 0.8874 - val_f1_m: 0.8874\n",
      "Epoch 57/100\n",
      "1528/1528 [==============================] - 8s 5ms/step - loss: 0.3332 - acc: 0.9935 - recall_m: 0.9934 - precision_m: 0.9934 - f1_m: 0.9934 - val_loss: 14.2820 - val_acc: 0.9041 - val_recall_m: 0.9071 - val_precision_m: 0.9071 - val_f1_m: 0.9071\n",
      "Epoch 58/100\n",
      "1528/1528 [==============================] - 8s 5ms/step - loss: 0.6505 - acc: 0.9882 - recall_m: 0.9882 - precision_m: 0.9882 - f1_m: 0.9882 - val_loss: 14.6407 - val_acc: 0.8801 - val_recall_m: 0.8889 - val_precision_m: 0.8889 - val_f1_m: 0.8889\n",
      "Epoch 59/100\n",
      "1528/1528 [==============================] - 7s 5ms/step - loss: 0.4383 - acc: 0.9908 - recall_m: 0.9909 - precision_m: 0.9909 - f1_m: 0.9909 - val_loss: 20.0573 - val_acc: 0.8527 - val_recall_m: 0.8547 - val_precision_m: 0.8547 - val_f1_m: 0.8547\n",
      "Epoch 60/100\n",
      "1528/1528 [==============================] - 9s 6ms/step - loss: 0.4872 - acc: 0.9935 - recall_m: 0.9935 - precision_m: 0.9935 - f1_m: 0.9935 - val_loss: 17.1152 - val_acc: 0.8836 - val_recall_m: 0.8848 - val_precision_m: 0.8848 - val_f1_m: 0.8848\n",
      "Epoch 61/100\n",
      "1528/1528 [==============================] - 8s 5ms/step - loss: 0.3782 - acc: 0.9928 - recall_m: 0.9928 - precision_m: 0.9928 - f1_m: 0.9928 - val_loss: 16.1157 - val_acc: 0.8938 - val_recall_m: 0.8993 - val_precision_m: 0.8993 - val_f1_m: 0.8993\n",
      "Epoch 62/100\n",
      "1528/1528 [==============================] - 8s 5ms/step - loss: 0.4356 - acc: 0.9895 - recall_m: 0.9895 - precision_m: 0.9895 - f1_m: 0.9895 - val_loss: 14.2527 - val_acc: 0.9041 - val_recall_m: 0.9071 - val_precision_m: 0.9071 - val_f1_m: 0.9071\n",
      "Epoch 63/100\n"
     ]
    },
    {
     "name": "stdout",
     "output_type": "stream",
     "text": [
      "1528/1528 [==============================] - 8s 5ms/step - loss: 0.3747 - acc: 0.9902 - recall_m: 0.9901 - precision_m: 0.9901 - f1_m: 0.9901 - val_loss: 24.7695 - val_acc: 0.8596 - val_recall_m: 0.8666 - val_precision_m: 0.8666 - val_f1_m: 0.8666\n",
      "Epoch 64/100\n",
      "1528/1528 [==============================] - 7s 5ms/step - loss: 0.6054 - acc: 0.9908 - recall_m: 0.9909 - precision_m: 0.9909 - f1_m: 0.9909 - val_loss: 12.2478 - val_acc: 0.9349 - val_recall_m: 0.9306 - val_precision_m: 0.9306 - val_f1_m: 0.9306\n",
      "Epoch 65/100\n",
      "1528/1528 [==============================] - 7s 5ms/step - loss: 1.0681 - acc: 0.9843 - recall_m: 0.9843 - precision_m: 0.9843 - f1_m: 0.9843 - val_loss: 14.3645 - val_acc: 0.8904 - val_recall_m: 0.8967 - val_precision_m: 0.8967 - val_f1_m: 0.8967\n",
      "Epoch 66/100\n",
      "1528/1528 [==============================] - 8s 5ms/step - loss: 0.4470 - acc: 0.9935 - recall_m: 0.9934 - precision_m: 0.9934 - f1_m: 0.9934 - val_loss: 16.7797 - val_acc: 0.9007 - val_recall_m: 0.9112 - val_precision_m: 0.9112 - val_f1_m: 0.9112\n",
      "Epoch 67/100\n",
      "1528/1528 [==============================] - 8s 5ms/step - loss: 0.4042 - acc: 0.9895 - recall_m: 0.9896 - precision_m: 0.9896 - f1_m: 0.9896 - val_loss: 15.7028 - val_acc: 0.9075 - val_recall_m: 0.9164 - val_precision_m: 0.9164 - val_f1_m: 0.9164\n",
      "Epoch 68/100\n",
      "1528/1528 [==============================] - 10s 6ms/step - loss: 0.3019 - acc: 0.9935 - recall_m: 0.9934 - precision_m: 0.9934 - f1_m: 0.9934 - val_loss: 19.8943 - val_acc: 0.8973 - val_recall_m: 0.9019 - val_precision_m: 0.9019 - val_f1_m: 0.9019\n",
      "Epoch 69/100\n",
      "1528/1528 [==============================] - 8s 5ms/step - loss: 0.3078 - acc: 0.9941 - recall_m: 0.9941 - precision_m: 0.9941 - f1_m: 0.9941 - val_loss: 20.8807 - val_acc: 0.8973 - val_recall_m: 0.9019 - val_precision_m: 0.9019 - val_f1_m: 0.9019\n",
      "Epoch 70/100\n",
      "1528/1528 [==============================] - 7s 5ms/step - loss: 0.2164 - acc: 0.9961 - recall_m: 0.9961 - precision_m: 0.9961 - f1_m: 0.9961 - val_loss: 17.6970 - val_acc: 0.9110 - val_recall_m: 0.9123 - val_precision_m: 0.9123 - val_f1_m: 0.9123\n",
      "Epoch 71/100\n",
      "1528/1528 [==============================] - 8s 5ms/step - loss: 0.2995 - acc: 0.9935 - recall_m: 0.9935 - precision_m: 0.9935 - f1_m: 0.9935 - val_loss: 21.2105 - val_acc: 0.8938 - val_recall_m: 0.8993 - val_precision_m: 0.8993 - val_f1_m: 0.8993\n",
      "Epoch 72/100\n",
      "1528/1528 [==============================] - 8s 5ms/step - loss: 0.2980 - acc: 0.9935 - recall_m: 0.9935 - precision_m: 0.9935 - f1_m: 0.9935 - val_loss: 20.2361 - val_acc: 0.9041 - val_recall_m: 0.9071 - val_precision_m: 0.9071 - val_f1_m: 0.9071\n",
      "Epoch 73/100\n",
      "1528/1528 [==============================] - 8s 5ms/step - loss: 0.2440 - acc: 0.9967 - recall_m: 0.9967 - precision_m: 0.9967 - f1_m: 0.9967 - val_loss: 24.5294 - val_acc: 0.8836 - val_recall_m: 0.8915 - val_precision_m: 0.8915 - val_f1_m: 0.8915\n",
      "Epoch 74/100\n",
      "1528/1528 [==============================] - 7s 5ms/step - loss: 0.2302 - acc: 0.9941 - recall_m: 0.9941 - precision_m: 0.9941 - f1_m: 0.9941 - val_loss: 26.1320 - val_acc: 0.8836 - val_recall_m: 0.8915 - val_precision_m: 0.8915 - val_f1_m: 0.8915\n",
      "Epoch 75/100\n",
      "1528/1528 [==============================] - 8s 5ms/step - loss: 0.2270 - acc: 0.9954 - recall_m: 0.9954 - precision_m: 0.9954 - f1_m: 0.9954 - val_loss: 25.5035 - val_acc: 0.8938 - val_recall_m: 0.8993 - val_precision_m: 0.8993 - val_f1_m: 0.8993\n",
      "Epoch 76/100\n",
      "1528/1528 [==============================] - 8s 5ms/step - loss: 0.3533 - acc: 0.9921 - recall_m: 0.9922 - precision_m: 0.9922 - f1_m: 0.9922 - val_loss: 21.0014 - val_acc: 0.8904 - val_recall_m: 0.8967 - val_precision_m: 0.8967 - val_f1_m: 0.8967\n",
      "Epoch 77/100\n",
      "1528/1528 [==============================] - 8s 5ms/step - loss: 0.2662 - acc: 0.9935 - recall_m: 0.9934 - precision_m: 0.9934 - f1_m: 0.9934 - val_loss: 16.4605 - val_acc: 0.8973 - val_recall_m: 0.9086 - val_precision_m: 0.9086 - val_f1_m: 0.9086\n",
      "Epoch 78/100\n",
      "1528/1528 [==============================] - 8s 5ms/step - loss: 0.3953 - acc: 0.9915 - recall_m: 0.9915 - precision_m: 0.9915 - f1_m: 0.9915 - val_loss: 18.4254 - val_acc: 0.8973 - val_recall_m: 0.9086 - val_precision_m: 0.9086 - val_f1_m: 0.9086\n",
      "Epoch 79/100\n",
      "1528/1528 [==============================] - 8s 5ms/step - loss: 0.2658 - acc: 0.9948 - recall_m: 0.9948 - precision_m: 0.9948 - f1_m: 0.9948 - val_loss: 18.0389 - val_acc: 0.8938 - val_recall_m: 0.8993 - val_precision_m: 0.8993 - val_f1_m: 0.8993\n",
      "Epoch 80/100\n",
      "1528/1528 [==============================] - 7s 5ms/step - loss: 0.3283 - acc: 0.9941 - recall_m: 0.9941 - precision_m: 0.9941 - f1_m: 0.9941 - val_loss: 23.1076 - val_acc: 0.8973 - val_recall_m: 0.9019 - val_precision_m: 0.9019 - val_f1_m: 0.9019\n",
      "Epoch 81/100\n",
      "1528/1528 [==============================] - 8s 5ms/step - loss: 0.2737 - acc: 0.9928 - recall_m: 0.9928 - precision_m: 0.9928 - f1_m: 0.9928 - val_loss: 35.4137 - val_acc: 0.8630 - val_recall_m: 0.8626 - val_precision_m: 0.8626 - val_f1_m: 0.8626\n",
      "Epoch 82/100\n",
      "1528/1528 [==============================] - 9s 6ms/step - loss: 0.7621 - acc: 0.9908 - recall_m: 0.9908 - precision_m: 0.9908 - f1_m: 0.9908 - val_loss: 19.5939 - val_acc: 0.8870 - val_recall_m: 0.8874 - val_precision_m: 0.8874 - val_f1_m: 0.8874\n",
      "Epoch 83/100\n",
      "1528/1528 [==============================] - 9s 6ms/step - loss: 0.4588 - acc: 0.9902 - recall_m: 0.9901 - precision_m: 0.9901 - f1_m: 0.9901 - val_loss: 17.2872 - val_acc: 0.8801 - val_recall_m: 0.8756 - val_precision_m: 0.8756 - val_f1_m: 0.8756\n",
      "Epoch 84/100\n",
      "1528/1528 [==============================] - 10s 7ms/step - loss: 0.5163 - acc: 0.9908 - recall_m: 0.9908 - precision_m: 0.9908 - f1_m: 0.9908 - val_loss: 17.2481 - val_acc: 0.8973 - val_recall_m: 0.9019 - val_precision_m: 0.9019 - val_f1_m: 0.9019\n",
      "Epoch 85/100\n",
      "1528/1528 [==============================] - 7s 5ms/step - loss: 0.3733 - acc: 0.9921 - recall_m: 0.9921 - precision_m: 0.9921 - f1_m: 0.9921 - val_loss: 24.1622 - val_acc: 0.8596 - val_recall_m: 0.8600 - val_precision_m: 0.8600 - val_f1_m: 0.8600\n",
      "Epoch 86/100\n",
      "1528/1528 [==============================] - 8s 5ms/step - loss: 0.2994 - acc: 0.9921 - recall_m: 0.9922 - precision_m: 0.9922 - f1_m: 0.9922 - val_loss: 21.3940 - val_acc: 0.8870 - val_recall_m: 0.8874 - val_precision_m: 0.8874 - val_f1_m: 0.8874\n",
      "Epoch 87/100\n",
      "1528/1528 [==============================] - 10s 6ms/step - loss: 0.3298 - acc: 0.9928 - recall_m: 0.9928 - precision_m: 0.9928 - f1_m: 0.9928 - val_loss: 21.9803 - val_acc: 0.8836 - val_recall_m: 0.8848 - val_precision_m: 0.8848 - val_f1_m: 0.8848\n",
      "Epoch 88/100\n",
      "1528/1528 [==============================] - 9s 6ms/step - loss: 0.2301 - acc: 0.9954 - recall_m: 0.9954 - precision_m: 0.9954 - f1_m: 0.9954 - val_loss: 22.6266 - val_acc: 0.8938 - val_recall_m: 0.8993 - val_precision_m: 0.8993 - val_f1_m: 0.8993\n",
      "Epoch 89/100\n",
      "1528/1528 [==============================] - 9s 6ms/step - loss: 0.2214 - acc: 0.9961 - recall_m: 0.9961 - precision_m: 0.9961 - f1_m: 0.9961 - val_loss: 23.7417 - val_acc: 0.8938 - val_recall_m: 0.8993 - val_precision_m: 0.8993 - val_f1_m: 0.8993\n",
      "Epoch 90/100\n",
      "1528/1528 [==============================] - 9s 6ms/step - loss: 0.2014 - acc: 0.9961 - recall_m: 0.9961 - precision_m: 0.9961 - f1_m: 0.9961 - val_loss: 30.1707 - val_acc: 0.8767 - val_recall_m: 0.8796 - val_precision_m: 0.8796 - val_f1_m: 0.8796\n",
      "Epoch 91/100\n",
      "1528/1528 [==============================] - 8s 5ms/step - loss: 0.4727 - acc: 0.9928 - recall_m: 0.9928 - precision_m: 0.9928 - f1_m: 0.9928 - val_loss: 20.1111 - val_acc: 0.8767 - val_recall_m: 0.8863 - val_precision_m: 0.8863 - val_f1_m: 0.8863\n",
      "Epoch 92/100\n",
      "1528/1528 [==============================] - 8s 5ms/step - loss: 0.5017 - acc: 0.9895 - recall_m: 0.9895 - precision_m: 0.9895 - f1_m: 0.9895 - val_loss: 15.0674 - val_acc: 0.8938 - val_recall_m: 0.8993 - val_precision_m: 0.8993 - val_f1_m: 0.8993\n",
      "Epoch 93/100\n",
      "1528/1528 [==============================] - 9s 6ms/step - loss: 0.4158 - acc: 0.9915 - recall_m: 0.9915 - precision_m: 0.9915 - f1_m: 0.9915 - val_loss: 20.2553 - val_acc: 0.8836 - val_recall_m: 0.8915 - val_precision_m: 0.8915 - val_f1_m: 0.8915\n",
      "Epoch 94/100\n"
     ]
    },
    {
     "name": "stdout",
     "output_type": "stream",
     "text": [
      "1528/1528 [==============================] - 7s 5ms/step - loss: 0.4012 - acc: 0.9908 - recall_m: 0.9909 - precision_m: 0.9909 - f1_m: 0.9909 - val_loss: 23.0849 - val_acc: 0.8801 - val_recall_m: 0.8889 - val_precision_m: 0.8889 - val_f1_m: 0.8889\n",
      "Epoch 95/100\n",
      "1528/1528 [==============================] - 8s 5ms/step - loss: 0.7845 - acc: 0.9895 - recall_m: 0.9895 - precision_m: 0.9895 - f1_m: 0.9895 - val_loss: 18.0236 - val_acc: 0.8801 - val_recall_m: 0.8822 - val_precision_m: 0.8822 - val_f1_m: 0.8822\n",
      "Epoch 96/100\n",
      "1528/1528 [==============================] - 8s 5ms/step - loss: 0.6533 - acc: 0.9843 - recall_m: 0.9842 - precision_m: 0.9842 - f1_m: 0.9842 - val_loss: 18.5536 - val_acc: 0.8938 - val_recall_m: 0.8927 - val_precision_m: 0.8927 - val_f1_m: 0.8927\n",
      "Epoch 97/100\n",
      "1528/1528 [==============================] - 8s 5ms/step - loss: 0.6267 - acc: 0.9902 - recall_m: 0.9902 - precision_m: 0.9902 - f1_m: 0.9902 - val_loss: 24.5584 - val_acc: 0.8596 - val_recall_m: 0.8466 - val_precision_m: 0.8466 - val_f1_m: 0.8466\n",
      "Epoch 98/100\n",
      "1528/1528 [==============================] - 7s 5ms/step - loss: 0.4335 - acc: 0.9902 - recall_m: 0.9902 - precision_m: 0.9902 - f1_m: 0.9902 - val_loss: 16.6468 - val_acc: 0.8938 - val_recall_m: 0.8993 - val_precision_m: 0.8993 - val_f1_m: 0.8993\n",
      "Epoch 99/100\n",
      "1528/1528 [==============================] - 8s 5ms/step - loss: 0.4503 - acc: 0.9915 - recall_m: 0.9914 - precision_m: 0.9914 - f1_m: 0.9914 - val_loss: 21.6308 - val_acc: 0.8733 - val_recall_m: 0.8770 - val_precision_m: 0.8770 - val_f1_m: 0.8770\n",
      "Epoch 100/100\n",
      "1528/1528 [==============================] - 8s 5ms/step - loss: 0.2994 - acc: 0.9935 - recall_m: 0.9934 - precision_m: 0.9934 - f1_m: 0.9934 - val_loss: 18.9342 - val_acc: 0.8938 - val_recall_m: 0.8993 - val_precision_m: 0.8993 - val_f1_m: 0.8993\n"
     ]
    },
    {
     "data": {
      "image/png": "[encoded data removed]",
      "text/plain": [
       "<Figure size 432x288 with 1 Axes>"
      ]
     },
     "metadata": {
      "needs_background": "light"
     },
     "output_type": "display_data"
    },
    {
     "data": {
      "image/png": "[encoded data removed]",
      "text/plain": [
       "<Figure size 432x288 with 1 Axes>"
      ]
     },
     "metadata": {
      "needs_background": "light"
     },
     "output_type": "display_data"
    }
   ],
   "source": [
    "import matplotlib.pyplot as plt\n",
    "\n",
    "history = model.fit(x_train, y_train, validation_data=(x_val, y_val), epochs=, batch_size=128)\n",
    "\n",
    "# Plot training & validation accuracy values\n",
    "plt.plot(history.history['acc'])\n",
    "plt.plot(history.history['val_acc'])\n",
    "plt.title('Model accuracy')\n",
    "plt.ylabel('Accuracy')\n",
    "plt.xlabel('Epoch')\n",
    "plt.legend(['Train', 'Test'], loc='upper left')\n",
    "plt.show()\n",
    "\n",
    "# Plot training & validation loss values\n",
    "plt.plot(history.history['loss'])\n",
    "plt.plot(history.history['val_loss'])\n",
    "plt.title('Model loss')\n",
    "plt.ylabel('Loss')\n",
    "plt.xlabel('Epoch')\n",
    "plt.legend(['Train', 'Test'], loc='upper left')\n",
    "plt.show()"
   ]
  },
  {
   "cell_type": "code",
   "execution_count": 31,
   "metadata": {},
   "outputs": [
    {
     "name": "stdout",
     "output_type": "stream",
     "text": [
      "276/276 [==============================] - 0s 2ms/step\n",
      "              precision    recall  f1-score   support\n",
      "\n",
      "           0       0.86      0.86      0.86       236\n",
      "           1       0.17      0.17      0.17        40\n",
      "\n",
      "    accuracy                           0.76       276\n",
      "   macro avg       0.52      0.52      0.52       276\n",
      "weighted avg       0.76      0.76      0.76       276\n",
      "\n"
     ]
    }
   ],
   "source": [
    "from sklearn.metrics import classification_report\n",
    "\n",
    "y_pred = model.predict(x_test, batch_size=64, verbose=1)\n",
    "y_pred_bool = np.argmax(y_pred, axis=1)\n",
    "\n",
    "print(classification_report(test_y, y_pred_bool))"
   ]
  },
  {
   "cell_type": "code",
   "execution_count": 44,
   "metadata": {},
   "outputs": [
    {
     "data": {
      "text/plain": [
       "array([[202,  34],\n",
       "       [ 33,   7]])"
      ]
     },
     "execution_count": 44,
     "metadata": {},
     "output_type": "execute_result"
    }
   ],
   "source": [
    "y_pred = model.predict(x_test, batch_size=64, verbose=1)\n",
    "y_pred_bool = np.argmax(y_pred, axis=1)\n",
    "\n",
    "from sklearn.metrics import confusion_matrix\n",
    "confusion_matrix(test_y, y_pred_bool)"
   ]
  }
 ],
 "metadata": {
  "kernelspec": {
   "display_name": "Python 3",
   "language": "python",
   "name": "python3"
  },
  "language_info": {
   "codemirror_mode": {
    "name": "ipython",
    "version": 3
   },
   "file_extension": ".py",
   "mimetype": "text/x-python",
   "name": "python",
   "nbconvert_exporter": "python",
   "pygments_lexer": "ipython3",
   "version": "3.7.4"
  }
 },
 "nbformat": 4,
 "nbformat_minor": 2
}
